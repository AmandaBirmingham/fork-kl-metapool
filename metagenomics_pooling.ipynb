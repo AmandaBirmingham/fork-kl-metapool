{
 "cells": [
  {
   "cell_type": "code",
   "execution_count": 39,
   "metadata": {
    "collapsed": false
   },
   "outputs": [],
   "source": [
    "%notebook inline\n",
    "\n",
    "from metapool.metapool import *"
   ]
  },
  {
   "cell_type": "markdown",
   "metadata": {},
   "source": [
    "# Knight Lab shotgun pipeline notebook\n",
    "\n",
    "### What is it?\n",
    "\n",
    "This Jupyter Notebook allows you to automatically produce most of the files you need for completing the Knight Lab shotgun sequencing pipeline.\n",
    "\n",
    "Hopefully, this will not only make it much easier to generate these files, but also keep our information more accurate.\n",
    "\n",
    "### Here's how it should work.\n",
    "\n",
    "You'll start out with a **basic plate map**, which just links each sample to it's approprite row and column.\n",
    "\n",
    "Then you'll add the output of the MiniPico assay of sample DNA concentrations, which will enable to you to automatically make a **normalization pick list** for starting the shotgun library prep itself. You can also visualize these concentrations on the plate, allowing you to double check the plate map and DNA concentration read.\n",
    "\n",
    "Next you'll automatically assign barcodes to each sample, producing an **index pick list** for barcode addition prior to PCR.\n",
    "\n",
    "After finishing the shotgun library prep itself, you'll measure library concentration with qPCR. This qPCR data file will then be read in and used to estimate and visualize pooling parameters, producing a **pooling pick list**. \n",
    "\n",
    "Finally, the per-sample information from the whole run can be combined to automatically produce a **sample sheet** that you can give directly to IGM for sequencing. "
   ]
  },
  {
   "cell_type": "markdown",
   "metadata": {},
   "source": [
    "# Workflow for normalizing DNA\n",
    "\n",
    "This portion of the notebook will read in the output of the mini-Pico quantification assay and construct an Echo normalization picklist file. \n",
    "\n",
    "As inputs, it requires:\n",
    "1. A tab-delimited row-wise plate map that indicates the sample name, well location, and blank status of each sample on the 384 well plate. \n",
    "\n",
    "The workflow then:\n",
    "1. reads in the plate map and constructs a dataframe\n",
    "2. calculates volumes to be added via echo to reach desired input DNA quantity\n",
    "3. produces an Echo-formatted pick list file"
   ]
  },
  {
   "cell_type": "markdown",
   "metadata": {},
   "source": [
    "## Step 1: read in plate map\n",
    "\n",
    "**Enter the correct path to the plate map file**. This will serve as the plate map for relating all subsequent information."
   ]
  },
  {
   "cell_type": "code",
   "execution_count": 2,
   "metadata": {
    "collapsed": true
   },
   "outputs": [],
   "source": [
    "plate_map_fp = './test_data/MRSA/Map/MRSA_sample_map.txt'\n",
    "\n",
    "if not os.path.isfile(plate_map_fp):\n",
    "    print(\"Problem! %s is not a path to a valid file\" % file)"
   ]
  },
  {
   "cell_type": "markdown",
   "metadata": {},
   "source": [
    "**Read in the plate map**. It should look something like this:\n",
    "\n",
    "```\n",
    "Sample\tRow\tCol\tBlank\n",
    "GLY_01_012\tA\t1\tFalse\n",
    "GLY_14_034\tB\t1\tFalse\n",
    "GLY_11_007\tC\t1\tFalse\n",
    "GLY_28_018\tD\t1\tFalse\n",
    "GLY_25_003\tE\t1\tFalse\n",
    "GLY_06_106\tF\t1\tFalse\n",
    "GLY_07_011\tG\t1\tFalse\n",
    "GLY_18_043\tH\t1\tFalse\n",
    "GLY_28_004\tI\t1\tFalse\n",
    "```"
   ]
  },
  {
   "cell_type": "code",
   "execution_count": 3,
   "metadata": {
    "collapsed": false
   },
   "outputs": [
    {
     "data": {
      "text/html": [
       "<div>\n",
       "<style>\n",
       "    .dataframe thead tr:only-child th {\n",
       "        text-align: right;\n",
       "    }\n",
       "\n",
       "    .dataframe thead th {\n",
       "        text-align: left;\n",
       "    }\n",
       "\n",
       "    .dataframe tbody tr th {\n",
       "        vertical-align: top;\n",
       "    }\n",
       "</style>\n",
       "<table border=\"1\" class=\"dataframe\">\n",
       "  <thead>\n",
       "    <tr style=\"text-align: right;\">\n",
       "      <th></th>\n",
       "      <th>Sample</th>\n",
       "      <th>Row</th>\n",
       "      <th>Col</th>\n",
       "      <th>Blank</th>\n",
       "      <th>Well</th>\n",
       "    </tr>\n",
       "  </thead>\n",
       "  <tbody>\n",
       "    <tr>\n",
       "      <th>0</th>\n",
       "      <td>GLY_01_012</td>\n",
       "      <td>A</td>\n",
       "      <td>1</td>\n",
       "      <td>False</td>\n",
       "      <td>A1</td>\n",
       "    </tr>\n",
       "    <tr>\n",
       "      <th>1</th>\n",
       "      <td>GLY_14_034</td>\n",
       "      <td>B</td>\n",
       "      <td>1</td>\n",
       "      <td>False</td>\n",
       "      <td>B1</td>\n",
       "    </tr>\n",
       "    <tr>\n",
       "      <th>2</th>\n",
       "      <td>GLY_11_007</td>\n",
       "      <td>C</td>\n",
       "      <td>1</td>\n",
       "      <td>False</td>\n",
       "      <td>C1</td>\n",
       "    </tr>\n",
       "    <tr>\n",
       "      <th>3</th>\n",
       "      <td>GLY_28_018</td>\n",
       "      <td>D</td>\n",
       "      <td>1</td>\n",
       "      <td>False</td>\n",
       "      <td>D1</td>\n",
       "    </tr>\n",
       "    <tr>\n",
       "      <th>4</th>\n",
       "      <td>GLY_25_003</td>\n",
       "      <td>E</td>\n",
       "      <td>1</td>\n",
       "      <td>False</td>\n",
       "      <td>E1</td>\n",
       "    </tr>\n",
       "  </tbody>\n",
       "</table>\n",
       "</div>"
      ],
      "text/plain": [
       "       Sample Row  Col  Blank Well\n",
       "0  GLY_01_012   A    1  False   A1\n",
       "1  GLY_14_034   B    1  False   B1\n",
       "2  GLY_11_007   C    1  False   C1\n",
       "3  GLY_28_018   D    1  False   D1\n",
       "4  GLY_25_003   E    1  False   E1"
      ]
     },
     "execution_count": 3,
     "metadata": {},
     "output_type": "execute_result"
    }
   ],
   "source": [
    "plate_df = read_plate_map_csv(open(plate_map_fp,'r'))\n",
    "\n",
    "plate_df.head()"
   ]
  },
  {
   "cell_type": "markdown",
   "metadata": {},
   "source": [
    "## Step 2: read in DNA concentrations and add to plate map\n",
    "\n",
    "**Enter the correct path to the Pico DNA concentration output**. This should be a csv-formatted file produced by the MiniPico assay on the condensed, 384-well plate. "
   ]
  },
  {
   "cell_type": "code",
   "execution_count": 4,
   "metadata": {
    "collapsed": true
   },
   "outputs": [],
   "source": [
    "sample_concs_fp = './test_data/MRSA/Quant/MiniPico/2017-08-01_MRSA_1-4.txt'\n",
    "\n",
    "if not os.path.isfile(sample_concs_fp):\n",
    "    print(\"Problem! %s is not a path to a valid file\" % file)"
   ]
  },
  {
   "cell_type": "markdown",
   "metadata": {},
   "source": [
    "**Read in the DNA concentration output file**. It should look something like this:\n",
    "    \n",
    "```\n",
    "Results\n",
    "\n",
    "Well ID\tWell\t[Blanked-RFU]\t[Concentration]\n",
    "SPL1\tA1\t5243.000\t3.432\n",
    "SPL2\tC1\t4949.000\t3.239\n",
    "SPL3\tE1\t15302.000\t10.016\n",
    "SPL4\tG1\t4039.000\t2.644\n",
    "SPL5\tI1\t12862.000\t8.419\n",
    "SPL6\tK1\t2840.000\t1.859\n",
    "SPL7\tM1\t3343.000\t2.188\n",
    "```"
   ]
  },
  {
   "cell_type": "code",
   "execution_count": 5,
   "metadata": {
    "collapsed": false
   },
   "outputs": [
    {
     "data": {
      "text/html": [
       "<div>\n",
       "<style>\n",
       "    .dataframe thead tr:only-child th {\n",
       "        text-align: right;\n",
       "    }\n",
       "\n",
       "    .dataframe thead th {\n",
       "        text-align: left;\n",
       "    }\n",
       "\n",
       "    .dataframe tbody tr th {\n",
       "        vertical-align: top;\n",
       "    }\n",
       "</style>\n",
       "<table border=\"1\" class=\"dataframe\">\n",
       "  <thead>\n",
       "    <tr style=\"text-align: right;\">\n",
       "      <th></th>\n",
       "      <th>Sample</th>\n",
       "      <th>Row</th>\n",
       "      <th>Col</th>\n",
       "      <th>Blank</th>\n",
       "      <th>Well</th>\n",
       "      <th>Sample DNA Concentration</th>\n",
       "    </tr>\n",
       "  </thead>\n",
       "  <tbody>\n",
       "    <tr>\n",
       "      <th>0</th>\n",
       "      <td>GLY_01_012</td>\n",
       "      <td>A</td>\n",
       "      <td>1</td>\n",
       "      <td>False</td>\n",
       "      <td>A1</td>\n",
       "      <td>3.432</td>\n",
       "    </tr>\n",
       "    <tr>\n",
       "      <th>1</th>\n",
       "      <td>GLY_14_034</td>\n",
       "      <td>B</td>\n",
       "      <td>1</td>\n",
       "      <td>False</td>\n",
       "      <td>B1</td>\n",
       "      <td>3.151</td>\n",
       "    </tr>\n",
       "    <tr>\n",
       "      <th>2</th>\n",
       "      <td>GLY_11_007</td>\n",
       "      <td>C</td>\n",
       "      <td>1</td>\n",
       "      <td>False</td>\n",
       "      <td>C1</td>\n",
       "      <td>3.239</td>\n",
       "    </tr>\n",
       "    <tr>\n",
       "      <th>3</th>\n",
       "      <td>GLY_28_018</td>\n",
       "      <td>D</td>\n",
       "      <td>1</td>\n",
       "      <td>False</td>\n",
       "      <td>D1</td>\n",
       "      <td>4.212</td>\n",
       "    </tr>\n",
       "    <tr>\n",
       "      <th>4</th>\n",
       "      <td>GLY_25_003</td>\n",
       "      <td>E</td>\n",
       "      <td>1</td>\n",
       "      <td>False</td>\n",
       "      <td>E1</td>\n",
       "      <td>10.016</td>\n",
       "    </tr>\n",
       "  </tbody>\n",
       "</table>\n",
       "</div>"
      ],
      "text/plain": [
       "       Sample Row  Col  Blank Well  Sample DNA Concentration\n",
       "0  GLY_01_012   A    1  False   A1                     3.432\n",
       "1  GLY_14_034   B    1  False   B1                     3.151\n",
       "2  GLY_11_007   C    1  False   C1                     3.239\n",
       "3  GLY_28_018   D    1  False   D1                     4.212\n",
       "4  GLY_25_003   E    1  False   E1                    10.016"
      ]
     },
     "execution_count": 5,
     "metadata": {},
     "output_type": "execute_result"
    }
   ],
   "source": [
    "sample_concs = read_pico_csv(open(sample_concs_fp,'r'))\n",
    "\n",
    "plate_df = pd.merge(plate_df, sample_concs, on='Well')\n",
    "\n",
    "plate_df.head()"
   ]
  },
  {
   "cell_type": "markdown",
   "metadata": {},
   "source": [
    "**Visualize plate DNA concentrations and plate map:**"
   ]
  },
  {
   "cell_type": "code",
   "execution_count": 6,
   "metadata": {
    "collapsed": false
   },
   "outputs": [],
   "source": [
    "# get DNA concentratin information\n",
    "dna_concs = make_2D_array(plate_df, data_col='Sample DNA Concentration', well_col='Well').astype(float)\n",
    "\n",
    "# get information for annotation\n",
    "names = make_2D_array(plate_df, data_col='Sample', well_col='Well')\n",
    "\n",
    "plot_plate_vals(dna_concs,\n",
    "                annot_str=names,\n",
    "                color_map='viridis',\n",
    "                annot_fmt='.5s')"
   ]
  },
  {
   "cell_type": "markdown",
   "metadata": {},
   "source": [
    "## Step 3: calculate normalization volumes and add to plate map\n",
    "\n",
    "This step will calculate volumes for the DNA normalization pick list.\n",
    "\n",
    "Check the desired values for:\n",
    " - **`ng`**: the desired quantity of DNA in normed plate, in ng\n",
    " - **`total_vol`**: the total volume of normalized DNA, in nL\n",
    " - **`min_vol`**: the minimum quantity of sample to add, in nL\n",
    " - **`resolution`**: the resolution of the Echo, in nL (usually 2.5)"
   ]
  },
  {
   "cell_type": "code",
   "execution_count": 7,
   "metadata": {
    "collapsed": false
   },
   "outputs": [
    {
     "data": {
      "text/html": [
       "<div>\n",
       "<style>\n",
       "    .dataframe thead tr:only-child th {\n",
       "        text-align: right;\n",
       "    }\n",
       "\n",
       "    .dataframe thead th {\n",
       "        text-align: left;\n",
       "    }\n",
       "\n",
       "    .dataframe tbody tr th {\n",
       "        vertical-align: top;\n",
       "    }\n",
       "</style>\n",
       "<table border=\"1\" class=\"dataframe\">\n",
       "  <thead>\n",
       "    <tr style=\"text-align: right;\">\n",
       "      <th></th>\n",
       "      <th>Sample</th>\n",
       "      <th>Row</th>\n",
       "      <th>Col</th>\n",
       "      <th>Blank</th>\n",
       "      <th>Well</th>\n",
       "      <th>Sample DNA Concentration</th>\n",
       "      <th>Normalized DNA volume</th>\n",
       "      <th>Normalized water volume</th>\n",
       "    </tr>\n",
       "  </thead>\n",
       "  <tbody>\n",
       "    <tr>\n",
       "      <th>0</th>\n",
       "      <td>GLY_01_012</td>\n",
       "      <td>A</td>\n",
       "      <td>1</td>\n",
       "      <td>False</td>\n",
       "      <td>A1</td>\n",
       "      <td>3.432</td>\n",
       "      <td>1457.5</td>\n",
       "      <td>2042.5</td>\n",
       "    </tr>\n",
       "    <tr>\n",
       "      <th>1</th>\n",
       "      <td>GLY_14_034</td>\n",
       "      <td>B</td>\n",
       "      <td>1</td>\n",
       "      <td>False</td>\n",
       "      <td>B1</td>\n",
       "      <td>3.151</td>\n",
       "      <td>1587.5</td>\n",
       "      <td>1912.5</td>\n",
       "    </tr>\n",
       "    <tr>\n",
       "      <th>2</th>\n",
       "      <td>GLY_11_007</td>\n",
       "      <td>C</td>\n",
       "      <td>1</td>\n",
       "      <td>False</td>\n",
       "      <td>C1</td>\n",
       "      <td>3.239</td>\n",
       "      <td>1542.5</td>\n",
       "      <td>1957.5</td>\n",
       "    </tr>\n",
       "    <tr>\n",
       "      <th>3</th>\n",
       "      <td>GLY_28_018</td>\n",
       "      <td>D</td>\n",
       "      <td>1</td>\n",
       "      <td>False</td>\n",
       "      <td>D1</td>\n",
       "      <td>4.212</td>\n",
       "      <td>1187.5</td>\n",
       "      <td>2312.5</td>\n",
       "    </tr>\n",
       "    <tr>\n",
       "      <th>4</th>\n",
       "      <td>GLY_25_003</td>\n",
       "      <td>E</td>\n",
       "      <td>1</td>\n",
       "      <td>False</td>\n",
       "      <td>E1</td>\n",
       "      <td>10.016</td>\n",
       "      <td>500.0</td>\n",
       "      <td>3000.0</td>\n",
       "    </tr>\n",
       "  </tbody>\n",
       "</table>\n",
       "</div>"
      ],
      "text/plain": [
       "       Sample Row  Col  Blank Well  Sample DNA Concentration  \\\n",
       "0  GLY_01_012   A    1  False   A1                     3.432   \n",
       "1  GLY_14_034   B    1  False   B1                     3.151   \n",
       "2  GLY_11_007   C    1  False   C1                     3.239   \n",
       "3  GLY_28_018   D    1  False   D1                     4.212   \n",
       "4  GLY_25_003   E    1  False   E1                    10.016   \n",
       "\n",
       "   Normalized DNA volume  Normalized water volume  \n",
       "0                 1457.5                   2042.5  \n",
       "1                 1587.5                   1912.5  \n",
       "2                 1542.5                   1957.5  \n",
       "3                 1187.5                   2312.5  \n",
       "4                  500.0                   3000.0  "
      ]
     },
     "execution_count": 7,
     "metadata": {},
     "output_type": "execute_result"
    }
   ],
   "source": [
    "ng = 5\n",
    "total_vol = 3500\n",
    "min_vol = 25\n",
    "resolution = 2.5\n",
    "\n",
    "dna_vols = calculate_norm_vol(plate_df['Sample DNA Concentration'], ng=ng, min_vol=min_vol, max_vol=total_vol, resolution=resolution)\n",
    "water_vols = total_vol - dna_vols\n",
    "\n",
    "plate_df['Normalized DNA volume'] = dna_vols\n",
    "plate_df['Normalized water volume'] = water_vols\n",
    "\n",
    "plate_df.head()"
   ]
  },
  {
   "cell_type": "markdown",
   "metadata": {},
   "source": [
    "## Step 4: make pick list\n",
    "\n",
    "Format the Echo-compatible pick list."
   ]
  },
  {
   "cell_type": "code",
   "execution_count": 8,
   "metadata": {
    "collapsed": true
   },
   "outputs": [],
   "source": [
    "norm_picklist = format_dna_norm_picklist(np.array(plate_df['Normalized DNA volume']),\n",
    "                                        np.array(plate_df['Normalized water volume']),\n",
    "                                        np.array(plate_df['Well']),\n",
    "                                        sample_names = np.array(plate_df['Sample']),\n",
    "                                        dna_concs = np.array(plate_df['Sample DNA Concentration']))"
   ]
  },
  {
   "cell_type": "markdown",
   "metadata": {},
   "source": [
    "## Step 5: write pick list to file"
   ]
  },
  {
   "cell_type": "code",
   "execution_count": 9,
   "metadata": {
    "collapsed": false
   },
   "outputs": [
    {
     "name": "stdout",
     "output_type": "stream",
     "text": [
      "Warning! This file exists already.\n"
     ]
    }
   ],
   "source": [
    "# Write the picklist\n",
    "norm_picklist_fp = './test_output/MRSA/2017-08-04_MRSA_1-4_DNA_norm_picklist.txt'\n",
    "\n",
    "if os.path.isfile(norm_picklist_fp):\n",
    "    print(\"Warning! This file exists already.\")"
   ]
  },
  {
   "cell_type": "code",
   "execution_count": 10,
   "metadata": {
    "collapsed": false
   },
   "outputs": [
    {
     "name": "stdout",
     "output_type": "stream",
     "text": [
      "Sample\tSource Plate Name\tSource Plate Type\tSource Well\tConcentration\tTransfer Volume\tDestination Plate Name\tDestination Well\r\n",
      "GLY_01_012\tWater\t384PP_AQ_BP2_HT\tA1\t3.432\t2042.5\tNormalizedDNA\tA1\r\n",
      "GLY_14_034\tWater\t384PP_AQ_BP2_HT\tB1\t3.151\t1912.5\tNormalizedDNA\tB1\r\n",
      "GLY_11_007\tWater\t384PP_AQ_BP2_HT\tC1\t3.239\t1957.5\tNormalizedDNA\tC1\r\n",
      "GLY_28_018\tWater\t384PP_AQ_BP2_HT\tD1\t4.212\t2312.5\tNormalizedDNA\tD1\r\n",
      "GLY_25_003\tWater\t384PP_AQ_BP2_HT\tE1\t10.016\t3000.0\tNormalizedDNA\tE1\r\n",
      "GLY_06_106\tWater\t384PP_AQ_BP2_HT\tF1\t2.892\t1770.0\tNormalizedDNA\tF1\r\n",
      "GLY_07_011\tWater\t384PP_AQ_BP2_HT\tG1\t2.644\t1610.0\tNormalizedDNA\tG1\r\n",
      "GLY_18_043\tWater\t384PP_AQ_BP2_HT\tH1\t9.623\t2980.0\tNormalizedDNA\tH1\r\n",
      "GLY_28_004\tWater\t384PP_AQ_BP2_HT\tI1\t8.419\t2905.0\tNormalizedDNA\tI1\r\n"
     ]
    }
   ],
   "source": [
    "with open(norm_picklist_fp, 'w') as f:\n",
    "    f.write(norm_picklist)\n",
    "    \n",
    "!head {norm_picklist_fp}"
   ]
  },
  {
   "cell_type": "markdown",
   "metadata": {},
   "source": [
    "# Workflow for assigning barcodes\n",
    "\n",
    "This portion of the notebook will assign index values and construct an Echo picklist file for adding barcodes. \n",
    "\n",
    "As inputs, it requires:\n",
    "1. A plate map dataframe (from previous step)\n",
    "2. A tab-delimited index combination file, relating index combinations, i5 and i7 index values, and i5 and i7 index locations\n",
    "\n",
    "The workflow then:\n",
    "1. reads in the index combo list\n",
    "2. assigns indices per sample\n",
    "3. produces an Echo-formatted pick list file"
   ]
  },
  {
   "cell_type": "markdown",
   "metadata": {},
   "source": [
    "## Step 1: Read in index combo list\n",
    "\n",
    "This is a file that contains every possible i5 and i7 barcode combo on a separate line,\n",
    "along with plate and well location information. It should look something like this:\n",
    "\n",
    "```\n",
    "index combo,index combo seq,i5 name,i5 sequence,i5 well,i5 plate,i7 name,i7 sequence,i7 well,i7 plate\n",
    "0,ACCGACAAACGTTACC,iTru5_01_A,ACCGACAA,A1,iTru5_plate,iTru7_101_01,ACGTTACC,A1,iTru7_plate\n",
    "1,AGTGGCAACTGTGTTG,iTru5_01_B,AGTGGCAA,B1,iTru5_plate,iTru7_101_02,CTGTGTTG,A2,iTru7_plate\n",
    "2,CACAGACTTGAGGTGT,iTru5_01_C,CACAGACT,C1,iTru5_plate,iTru7_101_03,TGAGGTGT,A3,iTru7_plate\n",
    "3,CGACACTTGATCCATG,iTru5_01_D,CGACACTT,D1,iTru5_plate,iTru7_101_04,GATCCATG,A4,iTru7_plate\n",
    "4,GACTTGTGGCCTATCA,iTru5_01_E,GACTTGTG,E1,iTru5_plate,iTru7_101_05,GCCTATCA,A5,iTru7_plate\n",
    "5,GTGAGACTAACAACCG,iTru5_01_F,GTGAGACT,F1,iTru5_plate,iTru7_101_06,AACAACCG,A6,iTru7_plate\n",
    "6,GTTCCATGACTCGTTG,iTru5_01_G,GTTCCATG,G1,iTru5_plate,iTru7_101_07,ACTCGTTG,A7,iTru7_plate\n",
    "7,TAGCTGAGCCTATGGT,iTru5_01_H,TAGCTGAG,H1,iTru5_plate,iTru7_101_08,CCTATGGT,A8,iTru7_plate\n",
    "8,CTTCGCAATGTACACC,iTru5_02_A,CTTCGCAA,I1,iTru5_plate,iTru7_101_09,TGTACACC,A9,iTru7_plate\n",
    "```"
   ]
  },
  {
   "cell_type": "code",
   "execution_count": 11,
   "metadata": {
    "collapsed": true
   },
   "outputs": [],
   "source": [
    "index_combo_fp = './test_output/iTru/new_iTru_combos.csv'\n",
    "\n",
    "if not os.path.isfile(index_combo_fp):\n",
    "    print(\"Problem! %s is not a path to a valid file\" % file)"
   ]
  },
  {
   "cell_type": "code",
   "execution_count": 12,
   "metadata": {
    "collapsed": false
   },
   "outputs": [
    {
     "data": {
      "text/html": [
       "<div>\n",
       "<style>\n",
       "    .dataframe thead tr:only-child th {\n",
       "        text-align: right;\n",
       "    }\n",
       "\n",
       "    .dataframe thead th {\n",
       "        text-align: left;\n",
       "    }\n",
       "\n",
       "    .dataframe tbody tr th {\n",
       "        vertical-align: top;\n",
       "    }\n",
       "</style>\n",
       "<table border=\"1\" class=\"dataframe\">\n",
       "  <thead>\n",
       "    <tr style=\"text-align: right;\">\n",
       "      <th></th>\n",
       "      <th>index combo</th>\n",
       "      <th>index combo seq</th>\n",
       "      <th>i5 name</th>\n",
       "      <th>i5 sequence</th>\n",
       "      <th>i5 well</th>\n",
       "      <th>i5 plate</th>\n",
       "      <th>i7 name</th>\n",
       "      <th>i7 sequence</th>\n",
       "      <th>i7 well</th>\n",
       "      <th>i7 plate</th>\n",
       "    </tr>\n",
       "  </thead>\n",
       "  <tbody>\n",
       "    <tr>\n",
       "      <th>0</th>\n",
       "      <td>0</td>\n",
       "      <td>ACCGACAAACGTTACC</td>\n",
       "      <td>iTru5_01_A</td>\n",
       "      <td>ACCGACAA</td>\n",
       "      <td>A1</td>\n",
       "      <td>iTru5_plate</td>\n",
       "      <td>iTru7_101_01</td>\n",
       "      <td>ACGTTACC</td>\n",
       "      <td>A1</td>\n",
       "      <td>iTru7_plate</td>\n",
       "    </tr>\n",
       "    <tr>\n",
       "      <th>1</th>\n",
       "      <td>1</td>\n",
       "      <td>AGTGGCAACTGTGTTG</td>\n",
       "      <td>iTru5_01_B</td>\n",
       "      <td>AGTGGCAA</td>\n",
       "      <td>B1</td>\n",
       "      <td>iTru5_plate</td>\n",
       "      <td>iTru7_101_02</td>\n",
       "      <td>CTGTGTTG</td>\n",
       "      <td>A2</td>\n",
       "      <td>iTru7_plate</td>\n",
       "    </tr>\n",
       "    <tr>\n",
       "      <th>2</th>\n",
       "      <td>2</td>\n",
       "      <td>CACAGACTTGAGGTGT</td>\n",
       "      <td>iTru5_01_C</td>\n",
       "      <td>CACAGACT</td>\n",
       "      <td>C1</td>\n",
       "      <td>iTru5_plate</td>\n",
       "      <td>iTru7_101_03</td>\n",
       "      <td>TGAGGTGT</td>\n",
       "      <td>A3</td>\n",
       "      <td>iTru7_plate</td>\n",
       "    </tr>\n",
       "    <tr>\n",
       "      <th>3</th>\n",
       "      <td>3</td>\n",
       "      <td>CGACACTTGATCCATG</td>\n",
       "      <td>iTru5_01_D</td>\n",
       "      <td>CGACACTT</td>\n",
       "      <td>D1</td>\n",
       "      <td>iTru5_plate</td>\n",
       "      <td>iTru7_101_04</td>\n",
       "      <td>GATCCATG</td>\n",
       "      <td>A4</td>\n",
       "      <td>iTru7_plate</td>\n",
       "    </tr>\n",
       "    <tr>\n",
       "      <th>4</th>\n",
       "      <td>4</td>\n",
       "      <td>GACTTGTGGCCTATCA</td>\n",
       "      <td>iTru5_01_E</td>\n",
       "      <td>GACTTGTG</td>\n",
       "      <td>E1</td>\n",
       "      <td>iTru5_plate</td>\n",
       "      <td>iTru7_101_05</td>\n",
       "      <td>GCCTATCA</td>\n",
       "      <td>A5</td>\n",
       "      <td>iTru7_plate</td>\n",
       "    </tr>\n",
       "  </tbody>\n",
       "</table>\n",
       "</div>"
      ],
      "text/plain": [
       "   index combo   index combo seq     i5 name i5 sequence i5 well     i5 plate  \\\n",
       "0            0  ACCGACAAACGTTACC  iTru5_01_A    ACCGACAA      A1  iTru5_plate   \n",
       "1            1  AGTGGCAACTGTGTTG  iTru5_01_B    AGTGGCAA      B1  iTru5_plate   \n",
       "2            2  CACAGACTTGAGGTGT  iTru5_01_C    CACAGACT      C1  iTru5_plate   \n",
       "3            3  CGACACTTGATCCATG  iTru5_01_D    CGACACTT      D1  iTru5_plate   \n",
       "4            4  GACTTGTGGCCTATCA  iTru5_01_E    GACTTGTG      E1  iTru5_plate   \n",
       "\n",
       "        i7 name i7 sequence i7 well     i7 plate  \n",
       "0  iTru7_101_01    ACGTTACC      A1  iTru7_plate  \n",
       "1  iTru7_101_02    CTGTGTTG      A2  iTru7_plate  \n",
       "2  iTru7_101_03    TGAGGTGT      A3  iTru7_plate  \n",
       "3  iTru7_101_04    GATCCATG      A4  iTru7_plate  \n",
       "4  iTru7_101_05    GCCTATCA      A5  iTru7_plate  "
      ]
     },
     "execution_count": 12,
     "metadata": {},
     "output_type": "execute_result"
    }
   ],
   "source": [
    "index_combos = pd.read_csv(index_combo_fp)\n",
    "index_combos.head()"
   ]
  },
  {
   "cell_type": "markdown",
   "metadata": {},
   "source": [
    "## Step 2: Assign index combo\n",
    "\n",
    "This will pick a set of index combos from the index combo for the number of samples in the `plate_df` DataFrame.\n",
    "\n",
    "Keep track of the barcode combinations used in the lab, and set `starting_combo` equal to the next unused combination.\n",
    "\n",
    "One of way of doing that might be to keep track of the number of plates run, and set `starting_combo` equal to\n",
    "384 * number of plates run + 1."
   ]
  },
  {
   "cell_type": "code",
   "execution_count": 13,
   "metadata": {
    "collapsed": false
   },
   "outputs": [
    {
     "data": {
      "text/html": [
       "<div>\n",
       "<style>\n",
       "    .dataframe thead tr:only-child th {\n",
       "        text-align: right;\n",
       "    }\n",
       "\n",
       "    .dataframe thead th {\n",
       "        text-align: left;\n",
       "    }\n",
       "\n",
       "    .dataframe tbody tr th {\n",
       "        vertical-align: top;\n",
       "    }\n",
       "</style>\n",
       "<table border=\"1\" class=\"dataframe\">\n",
       "  <thead>\n",
       "    <tr style=\"text-align: right;\">\n",
       "      <th></th>\n",
       "      <th>Sample</th>\n",
       "      <th>Row</th>\n",
       "      <th>Col</th>\n",
       "      <th>Blank</th>\n",
       "      <th>Well</th>\n",
       "      <th>Sample DNA Concentration</th>\n",
       "      <th>Normalized DNA volume</th>\n",
       "      <th>Normalized water volume</th>\n",
       "      <th>index combo</th>\n",
       "      <th>index combo seq</th>\n",
       "      <th>i5 name</th>\n",
       "      <th>i5 sequence</th>\n",
       "      <th>i5 well</th>\n",
       "      <th>i5 plate</th>\n",
       "      <th>i7 name</th>\n",
       "      <th>i7 sequence</th>\n",
       "      <th>i7 well</th>\n",
       "      <th>i7 plate</th>\n",
       "    </tr>\n",
       "  </thead>\n",
       "  <tbody>\n",
       "    <tr>\n",
       "      <th>0</th>\n",
       "      <td>GLY_01_012</td>\n",
       "      <td>A</td>\n",
       "      <td>1</td>\n",
       "      <td>False</td>\n",
       "      <td>A1</td>\n",
       "      <td>3.432</td>\n",
       "      <td>1457.5</td>\n",
       "      <td>2042.5</td>\n",
       "      <td>0</td>\n",
       "      <td>ACCGACAAACGTTACC</td>\n",
       "      <td>iTru5_01_A</td>\n",
       "      <td>ACCGACAA</td>\n",
       "      <td>A1</td>\n",
       "      <td>iTru5_plate</td>\n",
       "      <td>iTru7_101_01</td>\n",
       "      <td>ACGTTACC</td>\n",
       "      <td>A1</td>\n",
       "      <td>iTru7_plate</td>\n",
       "    </tr>\n",
       "    <tr>\n",
       "      <th>1</th>\n",
       "      <td>GLY_14_034</td>\n",
       "      <td>B</td>\n",
       "      <td>1</td>\n",
       "      <td>False</td>\n",
       "      <td>B1</td>\n",
       "      <td>3.151</td>\n",
       "      <td>1587.5</td>\n",
       "      <td>1912.5</td>\n",
       "      <td>1</td>\n",
       "      <td>AGTGGCAACTGTGTTG</td>\n",
       "      <td>iTru5_01_B</td>\n",
       "      <td>AGTGGCAA</td>\n",
       "      <td>B1</td>\n",
       "      <td>iTru5_plate</td>\n",
       "      <td>iTru7_101_02</td>\n",
       "      <td>CTGTGTTG</td>\n",
       "      <td>A2</td>\n",
       "      <td>iTru7_plate</td>\n",
       "    </tr>\n",
       "    <tr>\n",
       "      <th>2</th>\n",
       "      <td>GLY_11_007</td>\n",
       "      <td>C</td>\n",
       "      <td>1</td>\n",
       "      <td>False</td>\n",
       "      <td>C1</td>\n",
       "      <td>3.239</td>\n",
       "      <td>1542.5</td>\n",
       "      <td>1957.5</td>\n",
       "      <td>2</td>\n",
       "      <td>CACAGACTTGAGGTGT</td>\n",
       "      <td>iTru5_01_C</td>\n",
       "      <td>CACAGACT</td>\n",
       "      <td>C1</td>\n",
       "      <td>iTru5_plate</td>\n",
       "      <td>iTru7_101_03</td>\n",
       "      <td>TGAGGTGT</td>\n",
       "      <td>A3</td>\n",
       "      <td>iTru7_plate</td>\n",
       "    </tr>\n",
       "    <tr>\n",
       "      <th>3</th>\n",
       "      <td>GLY_28_018</td>\n",
       "      <td>D</td>\n",
       "      <td>1</td>\n",
       "      <td>False</td>\n",
       "      <td>D1</td>\n",
       "      <td>4.212</td>\n",
       "      <td>1187.5</td>\n",
       "      <td>2312.5</td>\n",
       "      <td>3</td>\n",
       "      <td>CGACACTTGATCCATG</td>\n",
       "      <td>iTru5_01_D</td>\n",
       "      <td>CGACACTT</td>\n",
       "      <td>D1</td>\n",
       "      <td>iTru5_plate</td>\n",
       "      <td>iTru7_101_04</td>\n",
       "      <td>GATCCATG</td>\n",
       "      <td>A4</td>\n",
       "      <td>iTru7_plate</td>\n",
       "    </tr>\n",
       "    <tr>\n",
       "      <th>4</th>\n",
       "      <td>GLY_25_003</td>\n",
       "      <td>E</td>\n",
       "      <td>1</td>\n",
       "      <td>False</td>\n",
       "      <td>E1</td>\n",
       "      <td>10.016</td>\n",
       "      <td>500.0</td>\n",
       "      <td>3000.0</td>\n",
       "      <td>4</td>\n",
       "      <td>GACTTGTGGCCTATCA</td>\n",
       "      <td>iTru5_01_E</td>\n",
       "      <td>GACTTGTG</td>\n",
       "      <td>E1</td>\n",
       "      <td>iTru5_plate</td>\n",
       "      <td>iTru7_101_05</td>\n",
       "      <td>GCCTATCA</td>\n",
       "      <td>A5</td>\n",
       "      <td>iTru7_plate</td>\n",
       "    </tr>\n",
       "  </tbody>\n",
       "</table>\n",
       "</div>"
      ],
      "text/plain": [
       "       Sample Row  Col  Blank Well  Sample DNA Concentration  \\\n",
       "0  GLY_01_012   A    1  False   A1                     3.432   \n",
       "1  GLY_14_034   B    1  False   B1                     3.151   \n",
       "2  GLY_11_007   C    1  False   C1                     3.239   \n",
       "3  GLY_28_018   D    1  False   D1                     4.212   \n",
       "4  GLY_25_003   E    1  False   E1                    10.016   \n",
       "\n",
       "   Normalized DNA volume  Normalized water volume  index combo  \\\n",
       "0                 1457.5                   2042.5            0   \n",
       "1                 1587.5                   1912.5            1   \n",
       "2                 1542.5                   1957.5            2   \n",
       "3                 1187.5                   2312.5            3   \n",
       "4                  500.0                   3000.0            4   \n",
       "\n",
       "    index combo seq     i5 name i5 sequence i5 well     i5 plate  \\\n",
       "0  ACCGACAAACGTTACC  iTru5_01_A    ACCGACAA      A1  iTru5_plate   \n",
       "1  AGTGGCAACTGTGTTG  iTru5_01_B    AGTGGCAA      B1  iTru5_plate   \n",
       "2  CACAGACTTGAGGTGT  iTru5_01_C    CACAGACT      C1  iTru5_plate   \n",
       "3  CGACACTTGATCCATG  iTru5_01_D    CGACACTT      D1  iTru5_plate   \n",
       "4  GACTTGTGGCCTATCA  iTru5_01_E    GACTTGTG      E1  iTru5_plate   \n",
       "\n",
       "        i7 name i7 sequence i7 well     i7 plate  \n",
       "0  iTru7_101_01    ACGTTACC      A1  iTru7_plate  \n",
       "1  iTru7_101_02    CTGTGTTG      A2  iTru7_plate  \n",
       "2  iTru7_101_03    TGAGGTGT      A3  iTru7_plate  \n",
       "3  iTru7_101_04    GATCCATG      A4  iTru7_plate  \n",
       "4  iTru7_101_05    GCCTATCA      A5  iTru7_plate  "
      ]
     },
     "execution_count": 13,
     "metadata": {},
     "output_type": "execute_result"
    }
   ],
   "source": [
    "starting_combo = 0\n",
    "\n",
    "indices = assign_index(len(plate_df['Sample']), index_combos, start_idx=starting_combo)\n",
    "\n",
    "plate_df = pd.concat([plate_df, indices], axis=1)\n",
    "\n",
    "plate_df.head()"
   ]
  },
  {
   "cell_type": "markdown",
   "metadata": {},
   "source": [
    "## Step 3: Make index pick list\n",
    "\n",
    "Format the Echo-compatible pick list."
   ]
  },
  {
   "cell_type": "code",
   "execution_count": 14,
   "metadata": {
    "collapsed": true
   },
   "outputs": [],
   "source": [
    "index_picklist = format_index_picklist(plate_df['Sample'], plate_df['Well'], indices)"
   ]
  },
  {
   "cell_type": "markdown",
   "metadata": {},
   "source": [
    "## Step 5: write pick list to file"
   ]
  },
  {
   "cell_type": "code",
   "execution_count": 15,
   "metadata": {
    "collapsed": false
   },
   "outputs": [
    {
     "name": "stdout",
     "output_type": "stream",
     "text": [
      "Warning! This file exists already.\n"
     ]
    }
   ],
   "source": [
    "index_picklist_fp = './test_output/MRSA/2017-08-04_MRSA_1-4_DNA_norm_picklist.txt'\n",
    "\n",
    "if os.path.isfile(index_picklist_fp):\n",
    "    print(\"Warning! This file exists already.\")"
   ]
  },
  {
   "cell_type": "code",
   "execution_count": 16,
   "metadata": {
    "collapsed": false
   },
   "outputs": [
    {
     "name": "stdout",
     "output_type": "stream",
     "text": [
      "Sample\tSource Plate Name\tSource Plate Type\tSource Well\tTransfer Volume\tIndex Name\tIndex Sequence\tIndex Combo\tDestination Plate Name\tDestination Well\r\n",
      "GLY_01_012\tiTru5_plate\t384LDV_AQ_B2_HT\tA1\t250\tiTru5_01_A\tACCGACAA\t0\tIndexPCRPlate\tA1\r\n",
      "GLY_14_034\tiTru5_plate\t384LDV_AQ_B2_HT\tB1\t250\tiTru5_01_B\tAGTGGCAA\t1\tIndexPCRPlate\tB1\r\n",
      "GLY_11_007\tiTru5_plate\t384LDV_AQ_B2_HT\tC1\t250\tiTru5_01_C\tCACAGACT\t2\tIndexPCRPlate\tC1\r\n",
      "GLY_28_018\tiTru5_plate\t384LDV_AQ_B2_HT\tD1\t250\tiTru5_01_D\tCGACACTT\t3\tIndexPCRPlate\tD1\r\n",
      "GLY_25_003\tiTru5_plate\t384LDV_AQ_B2_HT\tE1\t250\tiTru5_01_E\tGACTTGTG\t4\tIndexPCRPlate\tE1\r\n",
      "GLY_06_106\tiTru5_plate\t384LDV_AQ_B2_HT\tF1\t250\tiTru5_01_F\tGTGAGACT\t5\tIndexPCRPlate\tF1\r\n",
      "GLY_07_011\tiTru5_plate\t384LDV_AQ_B2_HT\tG1\t250\tiTru5_01_G\tGTTCCATG\t6\tIndexPCRPlate\tG1\r\n",
      "GLY_18_043\tiTru5_plate\t384LDV_AQ_B2_HT\tH1\t250\tiTru5_01_H\tTAGCTGAG\t7\tIndexPCRPlate\tH1\r\n",
      "GLY_28_004\tiTru5_plate\t384LDV_AQ_B2_HT\tI1\t250\tiTru5_02_A\tCTTCGCAA\t8\tIndexPCRPlate\tI1\r\n"
     ]
    }
   ],
   "source": [
    "with open(index_picklist_fp, 'w') as f:\n",
    "    f.write(index_picklist)\n",
    "\n",
    "!head {index_picklist_fp}"
   ]
  },
  {
   "cell_type": "markdown",
   "metadata": {},
   "source": [
    "# Workflow for calculating pooling\n",
    "\n",
    "This portion of the notebook calculates pooling based on qPCR values, and produces visual outputs to interpret and check values. \n",
    "\n",
    "As inputs, this workflow requires:\n",
    "1. A plate map DataFrame (from previous step)\n",
    "2. qPCR output (tab-delimited text format with columns 'Cp' and 'Pos')\n",
    "\n",
    "The workflow:\n",
    "1. reads in qPCR output and calculates estimated library concentration\n",
    "4. calculates pooling values and generates an Echo pick list"
   ]
  },
  {
   "cell_type": "markdown",
   "metadata": {},
   "source": [
    "## Step 1: read in input files\n",
    "\n",
    "**Enter the correct path to the qPCR output file**."
   ]
  },
  {
   "cell_type": "code",
   "execution_count": 17,
   "metadata": {
    "collapsed": false
   },
   "outputs": [],
   "source": [
    "qpcr_input_fp = './test_data/MRSA/Quant/qPCR/2017-08-04_MRSA_1-4.txt'\n",
    "\n",
    "for file in [qpcr_input_fp]:\n",
    "    if not os.path.isfile(file):\n",
    "        print(\"Problem! %s is not a path to a valid file\" % file)"
   ]
  },
  {
   "cell_type": "markdown",
   "metadata": {},
   "source": [
    "### Read in qPCR output. \n",
    "\n",
    "This file should look something like this:\n",
    "\n",
    "```\n",
    "Experiment: 2017-05-19_Knight_CF+ABTX+AGP_KHP_rerun  Selected Filter: SYBR Green I / HRM Dye (465-510)\n",
    "Include\tColor\tPos\tName\tCp\tConcentration\tStandard\tStatus\n",
    "True\t255\tA1\tSample 1\t20.55\t\t0\t\n",
    "True\t255\tA2\tSample 2\t  9.15\t\t0\t\n",
    "True\t255\tA3\tSample 3\t  9.16\t\t0\t\n",
    "True\t255\tA4\tSample 4\t  8.89\t\t0\t\n",
    "True\t255\tA5\tSample 5\t  8.43\t\t0\t\n",
    "True\t255\tA6\tSample 6\t  8.66\t\t0\t\n",
    "True\t255\tA7\tSample 7\t  8.84\t\t0\t\n",
    "True\t255\tA8\tSample 8\t  8.85\t\t0\n",
    "```"
   ]
  },
  {
   "cell_type": "code",
   "execution_count": 18,
   "metadata": {
    "collapsed": false,
    "scrolled": true
   },
   "outputs": [
    {
     "data": {
      "text/html": [
       "<div>\n",
       "<style>\n",
       "    .dataframe thead tr:only-child th {\n",
       "        text-align: right;\n",
       "    }\n",
       "\n",
       "    .dataframe thead th {\n",
       "        text-align: left;\n",
       "    }\n",
       "\n",
       "    .dataframe tbody tr th {\n",
       "        vertical-align: top;\n",
       "    }\n",
       "</style>\n",
       "<table border=\"1\" class=\"dataframe\">\n",
       "  <thead>\n",
       "    <tr style=\"text-align: right;\">\n",
       "      <th></th>\n",
       "      <th>Include</th>\n",
       "      <th>Color</th>\n",
       "      <th>Pos</th>\n",
       "      <th>Name</th>\n",
       "      <th>Cp</th>\n",
       "      <th>Concentration</th>\n",
       "      <th>Standard</th>\n",
       "      <th>Status</th>\n",
       "    </tr>\n",
       "  </thead>\n",
       "  <tbody>\n",
       "    <tr>\n",
       "      <th>0</th>\n",
       "      <td>True</td>\n",
       "      <td>255</td>\n",
       "      <td>A1</td>\n",
       "      <td>Sample 1</td>\n",
       "      <td>14.20</td>\n",
       "      <td>NaN</td>\n",
       "      <td>0</td>\n",
       "      <td>NaN</td>\n",
       "    </tr>\n",
       "    <tr>\n",
       "      <th>1</th>\n",
       "      <td>True</td>\n",
       "      <td>255</td>\n",
       "      <td>A2</td>\n",
       "      <td>Sample 2</td>\n",
       "      <td>16.19</td>\n",
       "      <td>NaN</td>\n",
       "      <td>0</td>\n",
       "      <td>NaN</td>\n",
       "    </tr>\n",
       "    <tr>\n",
       "      <th>2</th>\n",
       "      <td>True</td>\n",
       "      <td>255</td>\n",
       "      <td>A3</td>\n",
       "      <td>Sample 3</td>\n",
       "      <td>15.87</td>\n",
       "      <td>NaN</td>\n",
       "      <td>0</td>\n",
       "      <td>NaN</td>\n",
       "    </tr>\n",
       "    <tr>\n",
       "      <th>3</th>\n",
       "      <td>True</td>\n",
       "      <td>255</td>\n",
       "      <td>A4</td>\n",
       "      <td>Sample 4</td>\n",
       "      <td>17.75</td>\n",
       "      <td>NaN</td>\n",
       "      <td>0</td>\n",
       "      <td>NaN</td>\n",
       "    </tr>\n",
       "    <tr>\n",
       "      <th>4</th>\n",
       "      <td>True</td>\n",
       "      <td>255</td>\n",
       "      <td>A5</td>\n",
       "      <td>Sample 5</td>\n",
       "      <td>15.42</td>\n",
       "      <td>NaN</td>\n",
       "      <td>0</td>\n",
       "      <td>NaN</td>\n",
       "    </tr>\n",
       "  </tbody>\n",
       "</table>\n",
       "</div>"
      ],
      "text/plain": [
       "   Include  Color Pos      Name     Cp  Concentration  Standard  Status\n",
       "0     True    255  A1  Sample 1  14.20            NaN         0     NaN\n",
       "1     True    255  A2  Sample 2  16.19            NaN         0     NaN\n",
       "2     True    255  A3  Sample 3  15.87            NaN         0     NaN\n",
       "3     True    255  A4  Sample 4  17.75            NaN         0     NaN\n",
       "4     True    255  A5  Sample 5  15.42            NaN         0     NaN"
      ]
     },
     "execution_count": 18,
     "metadata": {},
     "output_type": "execute_result"
    }
   ],
   "source": [
    "qpcr_df = pd.read_csv(qpcr_input_fp, sep = '\\t', skiprows=1, header=0)\n",
    "qpcr_df.head()"
   ]
  },
  {
   "cell_type": "markdown",
   "metadata": {},
   "source": [
    "## Step 2: add to data frame"
   ]
  },
  {
   "cell_type": "code",
   "execution_count": 19,
   "metadata": {
    "collapsed": false
   },
   "outputs": [
    {
     "data": {
      "text/html": [
       "<div>\n",
       "<style>\n",
       "    .dataframe thead tr:only-child th {\n",
       "        text-align: right;\n",
       "    }\n",
       "\n",
       "    .dataframe thead th {\n",
       "        text-align: left;\n",
       "    }\n",
       "\n",
       "    .dataframe tbody tr th {\n",
       "        vertical-align: top;\n",
       "    }\n",
       "</style>\n",
       "<table border=\"1\" class=\"dataframe\">\n",
       "  <thead>\n",
       "    <tr style=\"text-align: right;\">\n",
       "      <th></th>\n",
       "      <th>Sample</th>\n",
       "      <th>Row</th>\n",
       "      <th>Col</th>\n",
       "      <th>Blank</th>\n",
       "      <th>Well</th>\n",
       "      <th>Sample DNA Concentration</th>\n",
       "      <th>Normalized DNA volume</th>\n",
       "      <th>Normalized water volume</th>\n",
       "      <th>index combo</th>\n",
       "      <th>index combo seq</th>\n",
       "      <th>i5 name</th>\n",
       "      <th>i5 sequence</th>\n",
       "      <th>i5 well</th>\n",
       "      <th>i5 plate</th>\n",
       "      <th>i7 name</th>\n",
       "      <th>i7 sequence</th>\n",
       "      <th>i7 well</th>\n",
       "      <th>i7 plate</th>\n",
       "      <th>Pos</th>\n",
       "      <th>Cp</th>\n",
       "    </tr>\n",
       "  </thead>\n",
       "  <tbody>\n",
       "    <tr>\n",
       "      <th>0</th>\n",
       "      <td>GLY_01_012</td>\n",
       "      <td>A</td>\n",
       "      <td>1</td>\n",
       "      <td>False</td>\n",
       "      <td>A1</td>\n",
       "      <td>3.432</td>\n",
       "      <td>1457.5</td>\n",
       "      <td>2042.5</td>\n",
       "      <td>0</td>\n",
       "      <td>ACCGACAAACGTTACC</td>\n",
       "      <td>iTru5_01_A</td>\n",
       "      <td>ACCGACAA</td>\n",
       "      <td>A1</td>\n",
       "      <td>iTru5_plate</td>\n",
       "      <td>iTru7_101_01</td>\n",
       "      <td>ACGTTACC</td>\n",
       "      <td>A1</td>\n",
       "      <td>iTru7_plate</td>\n",
       "      <td>A1</td>\n",
       "      <td>14.20</td>\n",
       "    </tr>\n",
       "    <tr>\n",
       "      <th>1</th>\n",
       "      <td>GLY_14_034</td>\n",
       "      <td>B</td>\n",
       "      <td>1</td>\n",
       "      <td>False</td>\n",
       "      <td>B1</td>\n",
       "      <td>3.151</td>\n",
       "      <td>1587.5</td>\n",
       "      <td>1912.5</td>\n",
       "      <td>1</td>\n",
       "      <td>AGTGGCAACTGTGTTG</td>\n",
       "      <td>iTru5_01_B</td>\n",
       "      <td>AGTGGCAA</td>\n",
       "      <td>B1</td>\n",
       "      <td>iTru5_plate</td>\n",
       "      <td>iTru7_101_02</td>\n",
       "      <td>CTGTGTTG</td>\n",
       "      <td>A2</td>\n",
       "      <td>iTru7_plate</td>\n",
       "      <td>B1</td>\n",
       "      <td>13.24</td>\n",
       "    </tr>\n",
       "    <tr>\n",
       "      <th>2</th>\n",
       "      <td>GLY_11_007</td>\n",
       "      <td>C</td>\n",
       "      <td>1</td>\n",
       "      <td>False</td>\n",
       "      <td>C1</td>\n",
       "      <td>3.239</td>\n",
       "      <td>1542.5</td>\n",
       "      <td>1957.5</td>\n",
       "      <td>2</td>\n",
       "      <td>CACAGACTTGAGGTGT</td>\n",
       "      <td>iTru5_01_C</td>\n",
       "      <td>CACAGACT</td>\n",
       "      <td>C1</td>\n",
       "      <td>iTru5_plate</td>\n",
       "      <td>iTru7_101_03</td>\n",
       "      <td>TGAGGTGT</td>\n",
       "      <td>A3</td>\n",
       "      <td>iTru7_plate</td>\n",
       "      <td>C1</td>\n",
       "      <td>14.44</td>\n",
       "    </tr>\n",
       "    <tr>\n",
       "      <th>3</th>\n",
       "      <td>GLY_28_018</td>\n",
       "      <td>D</td>\n",
       "      <td>1</td>\n",
       "      <td>False</td>\n",
       "      <td>D1</td>\n",
       "      <td>4.212</td>\n",
       "      <td>1187.5</td>\n",
       "      <td>2312.5</td>\n",
       "      <td>3</td>\n",
       "      <td>CGACACTTGATCCATG</td>\n",
       "      <td>iTru5_01_D</td>\n",
       "      <td>CGACACTT</td>\n",
       "      <td>D1</td>\n",
       "      <td>iTru5_plate</td>\n",
       "      <td>iTru7_101_04</td>\n",
       "      <td>GATCCATG</td>\n",
       "      <td>A4</td>\n",
       "      <td>iTru7_plate</td>\n",
       "      <td>D1</td>\n",
       "      <td>13.54</td>\n",
       "    </tr>\n",
       "    <tr>\n",
       "      <th>4</th>\n",
       "      <td>GLY_25_003</td>\n",
       "      <td>E</td>\n",
       "      <td>1</td>\n",
       "      <td>False</td>\n",
       "      <td>E1</td>\n",
       "      <td>10.016</td>\n",
       "      <td>500.0</td>\n",
       "      <td>3000.0</td>\n",
       "      <td>4</td>\n",
       "      <td>GACTTGTGGCCTATCA</td>\n",
       "      <td>iTru5_01_E</td>\n",
       "      <td>GACTTGTG</td>\n",
       "      <td>E1</td>\n",
       "      <td>iTru5_plate</td>\n",
       "      <td>iTru7_101_05</td>\n",
       "      <td>GCCTATCA</td>\n",
       "      <td>A5</td>\n",
       "      <td>iTru7_plate</td>\n",
       "      <td>E1</td>\n",
       "      <td>13.86</td>\n",
       "    </tr>\n",
       "  </tbody>\n",
       "</table>\n",
       "</div>"
      ],
      "text/plain": [
       "       Sample Row  Col  Blank Well  Sample DNA Concentration  \\\n",
       "0  GLY_01_012   A    1  False   A1                     3.432   \n",
       "1  GLY_14_034   B    1  False   B1                     3.151   \n",
       "2  GLY_11_007   C    1  False   C1                     3.239   \n",
       "3  GLY_28_018   D    1  False   D1                     4.212   \n",
       "4  GLY_25_003   E    1  False   E1                    10.016   \n",
       "\n",
       "   Normalized DNA volume  Normalized water volume  index combo  \\\n",
       "0                 1457.5                   2042.5            0   \n",
       "1                 1587.5                   1912.5            1   \n",
       "2                 1542.5                   1957.5            2   \n",
       "3                 1187.5                   2312.5            3   \n",
       "4                  500.0                   3000.0            4   \n",
       "\n",
       "    index combo seq     i5 name i5 sequence i5 well     i5 plate  \\\n",
       "0  ACCGACAAACGTTACC  iTru5_01_A    ACCGACAA      A1  iTru5_plate   \n",
       "1  AGTGGCAACTGTGTTG  iTru5_01_B    AGTGGCAA      B1  iTru5_plate   \n",
       "2  CACAGACTTGAGGTGT  iTru5_01_C    CACAGACT      C1  iTru5_plate   \n",
       "3  CGACACTTGATCCATG  iTru5_01_D    CGACACTT      D1  iTru5_plate   \n",
       "4  GACTTGTGGCCTATCA  iTru5_01_E    GACTTGTG      E1  iTru5_plate   \n",
       "\n",
       "        i7 name i7 sequence i7 well     i7 plate Pos     Cp  \n",
       "0  iTru7_101_01    ACGTTACC      A1  iTru7_plate  A1  14.20  \n",
       "1  iTru7_101_02    CTGTGTTG      A2  iTru7_plate  B1  13.24  \n",
       "2  iTru7_101_03    TGAGGTGT      A3  iTru7_plate  C1  14.44  \n",
       "3  iTru7_101_04    GATCCATG      A4  iTru7_plate  D1  13.54  \n",
       "4  iTru7_101_05    GCCTATCA      A5  iTru7_plate  E1  13.86  "
      ]
     },
     "execution_count": 19,
     "metadata": {},
     "output_type": "execute_result"
    }
   ],
   "source": [
    "plate_df = pd.merge(plate_df, qpcr_df[['Pos','Cp']], left_on='Well', right_on='Pos')\n",
    "\n",
    "plate_df.head()"
   ]
  },
  {
   "cell_type": "markdown",
   "metadata": {},
   "source": [
    "## Step 3: calculate sample concentration\n",
    "\n",
    "This step will calculate the estimated concentration based on Cp value. It will also add this info back to the sample data frame."
   ]
  },
  {
   "cell_type": "code",
   "execution_count": 20,
   "metadata": {
    "collapsed": false,
    "scrolled": true
   },
   "outputs": [
    {
     "data": {
      "text/html": [
       "<div>\n",
       "<style>\n",
       "    .dataframe thead tr:only-child th {\n",
       "        text-align: right;\n",
       "    }\n",
       "\n",
       "    .dataframe thead th {\n",
       "        text-align: left;\n",
       "    }\n",
       "\n",
       "    .dataframe tbody tr th {\n",
       "        vertical-align: top;\n",
       "    }\n",
       "</style>\n",
       "<table border=\"1\" class=\"dataframe\">\n",
       "  <thead>\n",
       "    <tr style=\"text-align: right;\">\n",
       "      <th></th>\n",
       "      <th>Sample</th>\n",
       "      <th>Row</th>\n",
       "      <th>Col</th>\n",
       "      <th>Blank</th>\n",
       "      <th>Well</th>\n",
       "      <th>Sample DNA Concentration</th>\n",
       "      <th>Normalized DNA volume</th>\n",
       "      <th>Normalized water volume</th>\n",
       "      <th>index combo</th>\n",
       "      <th>index combo seq</th>\n",
       "      <th>...</th>\n",
       "      <th>i5 sequence</th>\n",
       "      <th>i5 well</th>\n",
       "      <th>i5 plate</th>\n",
       "      <th>i7 name</th>\n",
       "      <th>i7 sequence</th>\n",
       "      <th>i7 well</th>\n",
       "      <th>i7 plate</th>\n",
       "      <th>Pos</th>\n",
       "      <th>Cp</th>\n",
       "      <th>Library Concentration</th>\n",
       "    </tr>\n",
       "  </thead>\n",
       "  <tbody>\n",
       "    <tr>\n",
       "      <th>0</th>\n",
       "      <td>GLY_01_012</td>\n",
       "      <td>A</td>\n",
       "      <td>1</td>\n",
       "      <td>False</td>\n",
       "      <td>A1</td>\n",
       "      <td>3.432</td>\n",
       "      <td>1457.5</td>\n",
       "      <td>2042.5</td>\n",
       "      <td>0</td>\n",
       "      <td>ACCGACAAACGTTACC</td>\n",
       "      <td>...</td>\n",
       "      <td>ACCGACAA</td>\n",
       "      <td>A1</td>\n",
       "      <td>iTru5_plate</td>\n",
       "      <td>iTru7_101_01</td>\n",
       "      <td>ACGTTACC</td>\n",
       "      <td>A1</td>\n",
       "      <td>iTru7_plate</td>\n",
       "      <td>A1</td>\n",
       "      <td>14.20</td>\n",
       "      <td>5.436218</td>\n",
       "    </tr>\n",
       "    <tr>\n",
       "      <th>1</th>\n",
       "      <td>GLY_14_034</td>\n",
       "      <td>B</td>\n",
       "      <td>1</td>\n",
       "      <td>False</td>\n",
       "      <td>B1</td>\n",
       "      <td>3.151</td>\n",
       "      <td>1587.5</td>\n",
       "      <td>1912.5</td>\n",
       "      <td>1</td>\n",
       "      <td>AGTGGCAACTGTGTTG</td>\n",
       "      <td>...</td>\n",
       "      <td>AGTGGCAA</td>\n",
       "      <td>B1</td>\n",
       "      <td>iTru5_plate</td>\n",
       "      <td>iTru7_101_02</td>\n",
       "      <td>CTGTGTTG</td>\n",
       "      <td>A2</td>\n",
       "      <td>iTru7_plate</td>\n",
       "      <td>B1</td>\n",
       "      <td>13.24</td>\n",
       "      <td>10.775030</td>\n",
       "    </tr>\n",
       "    <tr>\n",
       "      <th>2</th>\n",
       "      <td>GLY_11_007</td>\n",
       "      <td>C</td>\n",
       "      <td>1</td>\n",
       "      <td>False</td>\n",
       "      <td>C1</td>\n",
       "      <td>3.239</td>\n",
       "      <td>1542.5</td>\n",
       "      <td>1957.5</td>\n",
       "      <td>2</td>\n",
       "      <td>CACAGACTTGAGGTGT</td>\n",
       "      <td>...</td>\n",
       "      <td>CACAGACT</td>\n",
       "      <td>C1</td>\n",
       "      <td>iTru5_plate</td>\n",
       "      <td>iTru7_101_03</td>\n",
       "      <td>TGAGGTGT</td>\n",
       "      <td>A3</td>\n",
       "      <td>iTru7_plate</td>\n",
       "      <td>C1</td>\n",
       "      <td>14.44</td>\n",
       "      <td>4.581592</td>\n",
       "    </tr>\n",
       "    <tr>\n",
       "      <th>3</th>\n",
       "      <td>GLY_28_018</td>\n",
       "      <td>D</td>\n",
       "      <td>1</td>\n",
       "      <td>False</td>\n",
       "      <td>D1</td>\n",
       "      <td>4.212</td>\n",
       "      <td>1187.5</td>\n",
       "      <td>2312.5</td>\n",
       "      <td>3</td>\n",
       "      <td>CGACACTTGATCCATG</td>\n",
       "      <td>...</td>\n",
       "      <td>CGACACTT</td>\n",
       "      <td>D1</td>\n",
       "      <td>iTru5_plate</td>\n",
       "      <td>iTru7_101_04</td>\n",
       "      <td>GATCCATG</td>\n",
       "      <td>A4</td>\n",
       "      <td>iTru7_plate</td>\n",
       "      <td>D1</td>\n",
       "      <td>13.54</td>\n",
       "      <td>8.700976</td>\n",
       "    </tr>\n",
       "    <tr>\n",
       "      <th>4</th>\n",
       "      <td>GLY_25_003</td>\n",
       "      <td>E</td>\n",
       "      <td>1</td>\n",
       "      <td>False</td>\n",
       "      <td>E1</td>\n",
       "      <td>10.016</td>\n",
       "      <td>500.0</td>\n",
       "      <td>3000.0</td>\n",
       "      <td>4</td>\n",
       "      <td>GACTTGTGGCCTATCA</td>\n",
       "      <td>...</td>\n",
       "      <td>GACTTGTG</td>\n",
       "      <td>E1</td>\n",
       "      <td>iTru5_plate</td>\n",
       "      <td>iTru7_101_05</td>\n",
       "      <td>GCCTATCA</td>\n",
       "      <td>A5</td>\n",
       "      <td>iTru7_plate</td>\n",
       "      <td>E1</td>\n",
       "      <td>13.86</td>\n",
       "      <td>6.926717</td>\n",
       "    </tr>\n",
       "  </tbody>\n",
       "</table>\n",
       "<p>5 rows × 21 columns</p>\n",
       "</div>"
      ],
      "text/plain": [
       "       Sample Row  Col  Blank Well  Sample DNA Concentration  \\\n",
       "0  GLY_01_012   A    1  False   A1                     3.432   \n",
       "1  GLY_14_034   B    1  False   B1                     3.151   \n",
       "2  GLY_11_007   C    1  False   C1                     3.239   \n",
       "3  GLY_28_018   D    1  False   D1                     4.212   \n",
       "4  GLY_25_003   E    1  False   E1                    10.016   \n",
       "\n",
       "   Normalized DNA volume  Normalized water volume  index combo  \\\n",
       "0                 1457.5                   2042.5            0   \n",
       "1                 1587.5                   1912.5            1   \n",
       "2                 1542.5                   1957.5            2   \n",
       "3                 1187.5                   2312.5            3   \n",
       "4                  500.0                   3000.0            4   \n",
       "\n",
       "    index combo seq          ...           i5 sequence i5 well     i5 plate  \\\n",
       "0  ACCGACAAACGTTACC          ...              ACCGACAA      A1  iTru5_plate   \n",
       "1  AGTGGCAACTGTGTTG          ...              AGTGGCAA      B1  iTru5_plate   \n",
       "2  CACAGACTTGAGGTGT          ...              CACAGACT      C1  iTru5_plate   \n",
       "3  CGACACTTGATCCATG          ...              CGACACTT      D1  iTru5_plate   \n",
       "4  GACTTGTGGCCTATCA          ...              GACTTGTG      E1  iTru5_plate   \n",
       "\n",
       "        i7 name i7 sequence i7 well     i7 plate Pos     Cp  \\\n",
       "0  iTru7_101_01    ACGTTACC      A1  iTru7_plate  A1  14.20   \n",
       "1  iTru7_101_02    CTGTGTTG      A2  iTru7_plate  B1  13.24   \n",
       "2  iTru7_101_03    TGAGGTGT      A3  iTru7_plate  C1  14.44   \n",
       "3  iTru7_101_04    GATCCATG      A4  iTru7_plate  D1  13.54   \n",
       "4  iTru7_101_05    GCCTATCA      A5  iTru7_plate  E1  13.86   \n",
       "\n",
       "   Library Concentration  \n",
       "0               5.436218  \n",
       "1              10.775030  \n",
       "2               4.581592  \n",
       "3               8.700976  \n",
       "4               6.926717  \n",
       "\n",
       "[5 rows x 21 columns]"
      ]
     },
     "execution_count": 20,
     "metadata": {},
     "output_type": "execute_result"
    }
   ],
   "source": [
    "plate_df['Library Concentration'] = compute_qpcr_concentration(plate_df['Cp'])\n",
    "\n",
    "plate_df.head()"
   ]
  },
  {
   "cell_type": "markdown",
   "metadata": {},
   "source": [
    "## Step 4: calculate pooling values\n",
    "\n",
    "This step will calculate the sample pooling, and update the sample data frame with the pool info.\n",
    "\n",
    "You can change some variables if you want different behavior:\n",
    "\n",
    "- **min_conc**: This is the minimum concentration for a sample to be considered for pooling. Set to 0 to pool all samples, regardless of concentration. Increasing this will have the effect of increasing pool concentration, at the expense of samples dropping out. \n",
    "- **floor_conc**: This is the lowest concentration equivalent for which a sample will be accurately pooled. Samples below this concentration will be pooled to the volume that they would have been if they were actually that concentration. For example, if `floor_conc=20`, and a sample at 20 nM pools at 500 nL, a sample at 40 nM will pool at 250 nL but a sample at 10 nM will still pool at 500 nL (rather than 1000). Increasing this value will have the effect of increasing pool concentration, but decreasing read counts for low-concentration samples. \n",
    "- **total_nmol**: This is the total number of molecules to shoot for in the pool. Increasing this will increase the overall volume of the pool. "
   ]
  },
  {
   "cell_type": "code",
   "execution_count": 21,
   "metadata": {
    "collapsed": false,
    "scrolled": true
   },
   "outputs": [
    {
     "data": {
      "text/html": [
       "<div>\n",
       "<style>\n",
       "    .dataframe thead tr:only-child th {\n",
       "        text-align: right;\n",
       "    }\n",
       "\n",
       "    .dataframe thead th {\n",
       "        text-align: left;\n",
       "    }\n",
       "\n",
       "    .dataframe tbody tr th {\n",
       "        vertical-align: top;\n",
       "    }\n",
       "</style>\n",
       "<table border=\"1\" class=\"dataframe\">\n",
       "  <thead>\n",
       "    <tr style=\"text-align: right;\">\n",
       "      <th></th>\n",
       "      <th>Sample</th>\n",
       "      <th>Row</th>\n",
       "      <th>Col</th>\n",
       "      <th>Blank</th>\n",
       "      <th>Well</th>\n",
       "      <th>Sample DNA Concentration</th>\n",
       "      <th>Normalized DNA volume</th>\n",
       "      <th>Normalized water volume</th>\n",
       "      <th>index combo</th>\n",
       "      <th>index combo seq</th>\n",
       "      <th>...</th>\n",
       "      <th>i5 well</th>\n",
       "      <th>i5 plate</th>\n",
       "      <th>i7 name</th>\n",
       "      <th>i7 sequence</th>\n",
       "      <th>i7 well</th>\n",
       "      <th>i7 plate</th>\n",
       "      <th>Pos</th>\n",
       "      <th>Cp</th>\n",
       "      <th>Library Concentration</th>\n",
       "      <th>Pooled Volume</th>\n",
       "    </tr>\n",
       "  </thead>\n",
       "  <tbody>\n",
       "    <tr>\n",
       "      <th>0</th>\n",
       "      <td>GLY_01_012</td>\n",
       "      <td>A</td>\n",
       "      <td>1</td>\n",
       "      <td>False</td>\n",
       "      <td>A1</td>\n",
       "      <td>3.432</td>\n",
       "      <td>1457.5</td>\n",
       "      <td>2042.5</td>\n",
       "      <td>0</td>\n",
       "      <td>ACCGACAAACGTTACC</td>\n",
       "      <td>...</td>\n",
       "      <td>A1</td>\n",
       "      <td>iTru5_plate</td>\n",
       "      <td>iTru7_101_01</td>\n",
       "      <td>ACGTTACC</td>\n",
       "      <td>A1</td>\n",
       "      <td>iTru7_plate</td>\n",
       "      <td>A1</td>\n",
       "      <td>14.20</td>\n",
       "      <td>5.436218</td>\n",
       "      <td>520.833333</td>\n",
       "    </tr>\n",
       "    <tr>\n",
       "      <th>1</th>\n",
       "      <td>GLY_14_034</td>\n",
       "      <td>B</td>\n",
       "      <td>1</td>\n",
       "      <td>False</td>\n",
       "      <td>B1</td>\n",
       "      <td>3.151</td>\n",
       "      <td>1587.5</td>\n",
       "      <td>1912.5</td>\n",
       "      <td>1</td>\n",
       "      <td>AGTGGCAACTGTGTTG</td>\n",
       "      <td>...</td>\n",
       "      <td>B1</td>\n",
       "      <td>iTru5_plate</td>\n",
       "      <td>iTru7_101_02</td>\n",
       "      <td>CTGTGTTG</td>\n",
       "      <td>A2</td>\n",
       "      <td>iTru7_plate</td>\n",
       "      <td>B1</td>\n",
       "      <td>13.24</td>\n",
       "      <td>10.775030</td>\n",
       "      <td>520.833333</td>\n",
       "    </tr>\n",
       "    <tr>\n",
       "      <th>2</th>\n",
       "      <td>GLY_11_007</td>\n",
       "      <td>C</td>\n",
       "      <td>1</td>\n",
       "      <td>False</td>\n",
       "      <td>C1</td>\n",
       "      <td>3.239</td>\n",
       "      <td>1542.5</td>\n",
       "      <td>1957.5</td>\n",
       "      <td>2</td>\n",
       "      <td>CACAGACTTGAGGTGT</td>\n",
       "      <td>...</td>\n",
       "      <td>C1</td>\n",
       "      <td>iTru5_plate</td>\n",
       "      <td>iTru7_101_03</td>\n",
       "      <td>TGAGGTGT</td>\n",
       "      <td>A3</td>\n",
       "      <td>iTru7_plate</td>\n",
       "      <td>C1</td>\n",
       "      <td>14.44</td>\n",
       "      <td>4.581592</td>\n",
       "      <td>520.833333</td>\n",
       "    </tr>\n",
       "    <tr>\n",
       "      <th>3</th>\n",
       "      <td>GLY_28_018</td>\n",
       "      <td>D</td>\n",
       "      <td>1</td>\n",
       "      <td>False</td>\n",
       "      <td>D1</td>\n",
       "      <td>4.212</td>\n",
       "      <td>1187.5</td>\n",
       "      <td>2312.5</td>\n",
       "      <td>3</td>\n",
       "      <td>CGACACTTGATCCATG</td>\n",
       "      <td>...</td>\n",
       "      <td>D1</td>\n",
       "      <td>iTru5_plate</td>\n",
       "      <td>iTru7_101_04</td>\n",
       "      <td>GATCCATG</td>\n",
       "      <td>A4</td>\n",
       "      <td>iTru7_plate</td>\n",
       "      <td>D1</td>\n",
       "      <td>13.54</td>\n",
       "      <td>8.700976</td>\n",
       "      <td>520.833333</td>\n",
       "    </tr>\n",
       "    <tr>\n",
       "      <th>4</th>\n",
       "      <td>GLY_25_003</td>\n",
       "      <td>E</td>\n",
       "      <td>1</td>\n",
       "      <td>False</td>\n",
       "      <td>E1</td>\n",
       "      <td>10.016</td>\n",
       "      <td>500.0</td>\n",
       "      <td>3000.0</td>\n",
       "      <td>4</td>\n",
       "      <td>GACTTGTGGCCTATCA</td>\n",
       "      <td>...</td>\n",
       "      <td>E1</td>\n",
       "      <td>iTru5_plate</td>\n",
       "      <td>iTru7_101_05</td>\n",
       "      <td>GCCTATCA</td>\n",
       "      <td>A5</td>\n",
       "      <td>iTru7_plate</td>\n",
       "      <td>E1</td>\n",
       "      <td>13.86</td>\n",
       "      <td>6.926717</td>\n",
       "      <td>520.833333</td>\n",
       "    </tr>\n",
       "  </tbody>\n",
       "</table>\n",
       "<p>5 rows × 22 columns</p>\n",
       "</div>"
      ],
      "text/plain": [
       "       Sample Row  Col  Blank Well  Sample DNA Concentration  \\\n",
       "0  GLY_01_012   A    1  False   A1                     3.432   \n",
       "1  GLY_14_034   B    1  False   B1                     3.151   \n",
       "2  GLY_11_007   C    1  False   C1                     3.239   \n",
       "3  GLY_28_018   D    1  False   D1                     4.212   \n",
       "4  GLY_25_003   E    1  False   E1                    10.016   \n",
       "\n",
       "   Normalized DNA volume  Normalized water volume  index combo  \\\n",
       "0                 1457.5                   2042.5            0   \n",
       "1                 1587.5                   1912.5            1   \n",
       "2                 1542.5                   1957.5            2   \n",
       "3                 1187.5                   2312.5            3   \n",
       "4                  500.0                   3000.0            4   \n",
       "\n",
       "    index combo seq      ...       i5 well     i5 plate       i7 name  \\\n",
       "0  ACCGACAAACGTTACC      ...            A1  iTru5_plate  iTru7_101_01   \n",
       "1  AGTGGCAACTGTGTTG      ...            B1  iTru5_plate  iTru7_101_02   \n",
       "2  CACAGACTTGAGGTGT      ...            C1  iTru5_plate  iTru7_101_03   \n",
       "3  CGACACTTGATCCATG      ...            D1  iTru5_plate  iTru7_101_04   \n",
       "4  GACTTGTGGCCTATCA      ...            E1  iTru5_plate  iTru7_101_05   \n",
       "\n",
       "  i7 sequence i7 well     i7 plate Pos     Cp Library Concentration  \\\n",
       "0    ACGTTACC      A1  iTru7_plate  A1  14.20              5.436218   \n",
       "1    CTGTGTTG      A2  iTru7_plate  B1  13.24             10.775030   \n",
       "2    TGAGGTGT      A3  iTru7_plate  C1  14.44              4.581592   \n",
       "3    GATCCATG      A4  iTru7_plate  D1  13.54              8.700976   \n",
       "4    GCCTATCA      A5  iTru7_plate  E1  13.86              6.926717   \n",
       "\n",
       "   Pooled Volume  \n",
       "0     520.833333  \n",
       "1     520.833333  \n",
       "2     520.833333  \n",
       "3     520.833333  \n",
       "4     520.833333  \n",
       "\n",
       "[5 rows x 22 columns]"
      ]
     },
     "execution_count": 21,
     "metadata": {},
     "output_type": "execute_result"
    }
   ],
   "source": [
    "plate_df['Pooled Volume'] = compute_shotgun_pooling_values_qpcr(np.nan_to_num(plate_df['Library Concentration']),\n",
    "                                        min_conc=0, floor_conc=40,\n",
    "                                        total_nmol=.008)\n",
    "plate_df.head()"
   ]
  },
  {
   "cell_type": "markdown",
   "metadata": {},
   "source": [
    "The estimated pool volume and concentration are (concentration, nM; volume, nL):"
   ]
  },
  {
   "cell_type": "code",
   "execution_count": 22,
   "metadata": {
    "collapsed": false,
    "scrolled": false
   },
   "outputs": [
    {
     "data": {
      "text/plain": [
       "(61.085766495836083, 97703.060738032887)"
      ]
     },
     "execution_count": 22,
     "metadata": {},
     "output_type": "execute_result"
    }
   ],
   "source": [
    "estimate_pool_conc_vol(plate_df['Pooled Volume'], plate_df['Library Concentration'])"
   ]
  },
  {
   "cell_type": "markdown",
   "metadata": {},
   "source": [
    "## Step 5: visualization\n",
    "\n",
    "This step will present visuals of the results, including:\n",
    "1. Scatter plot of DNA concentrations by Library concentration\n",
    "2. Plate-wise heatmap and histogram showing library concentrations\n",
    "3. per-96-well plate heatmaps and histograms showing library concentrations and sample names\n",
    "4. Plate-wise heatmap showing pooling values"
   ]
  },
  {
   "cell_type": "markdown",
   "metadata": {},
   "source": [
    "### Library concentration by sample DNA concentration:"
   ]
  },
  {
   "cell_type": "code",
   "execution_count": 23,
   "metadata": {
    "collapsed": false
   },
   "outputs": [],
   "source": [
    "f, (ax1,ax2) = plt.subplots(nrows=1, ncols=2, figsize=(10, 4))\n",
    "\n",
    "sns.regplot(x=\"Sample DNA Concentration\", y=\"Cp\", data=plate_df, ax = ax1);\n",
    "sns.regplot(x=\"Sample DNA Concentration\", y=\"Library Concentration\", data=plate_df, ax = ax2);"
   ]
  },
  {
   "cell_type": "markdown",
   "metadata": {},
   "source": [
    "### Library concentration heatmap, whole plate"
   ]
  },
  {
   "cell_type": "code",
   "execution_count": 24,
   "metadata": {
    "collapsed": false
   },
   "outputs": [],
   "source": [
    "# get concentration and pooling values for plotting\n",
    "concs = make_2D_array(plate_df, data_col=\"Library Concentration\", well_col='Well').astype(float)\n",
    "vols = make_2D_array(plate_df, data_col='Pooled Volume', well_col='Well').astype(float)\n",
    "dna = make_2D_array(plate_df, data_col='Sample DNA Concentration', well_col='Well').astype(float)\n",
    "\n",
    "# get information for annotation\n",
    "names = make_2D_array(plate_df, data_col='Sample', well_col='Well')\n",
    "i5 = make_2D_array(plate_df, data_col='i5 name', well_col='Well')\n",
    "i7 = make_2D_array(plate_df, data_col='i7 name', well_col='Well')"
   ]
  },
  {
   "cell_type": "code",
   "execution_count": 25,
   "metadata": {
    "collapsed": false,
    "scrolled": false
   },
   "outputs": [],
   "source": [
    "plot_plate_vals(concs, color_map='viridis')"
   ]
  },
  {
   "cell_type": "markdown",
   "metadata": {},
   "source": [
    "### Plate maps for individual constituent plates"
   ]
  },
  {
   "cell_type": "code",
   "execution_count": 26,
   "metadata": {
    "collapsed": true
   },
   "outputs": [],
   "source": [
    "# Make mask arrays for even and odd rows and columns\n",
    "\n",
    "even_rows = [x for x in range(16) if x % 2 == 0]\n",
    "odd_rows = [x for x in range(16) if x % 2 == 1]\n",
    "even_cols = [x for x in range(24) if x % 2 == 0]\n",
    "odd_cols = [x for x in range(24) if x % 2 == 1]"
   ]
  },
  {
   "cell_type": "markdown",
   "metadata": {},
   "source": [
    "### Library concentration heatmap, Plate 1"
   ]
  },
  {
   "cell_type": "code",
   "execution_count": 27,
   "metadata": {
    "collapsed": false,
    "scrolled": false
   },
   "outputs": [],
   "source": [
    "plot_plate_vals(concs[np.ix_(even_rows,even_cols)],\n",
    "                annot_str= names[np.ix_(even_rows,even_cols)],\n",
    "                color_map='viridis',\n",
    "                annot_fmt='')"
   ]
  },
  {
   "cell_type": "markdown",
   "metadata": {},
   "source": [
    "### Library concentration heatmap, Plate 2"
   ]
  },
  {
   "cell_type": "code",
   "execution_count": 28,
   "metadata": {
    "collapsed": false,
    "scrolled": false
   },
   "outputs": [],
   "source": [
    "plot_plate_vals(concs[np.ix_(even_rows,odd_cols)],\n",
    "                annot_str=names[np.ix_(even_rows,odd_cols)],\n",
    "                color_map='viridis',\n",
    "                annot_fmt='')"
   ]
  },
  {
   "cell_type": "markdown",
   "metadata": {},
   "source": [
    "### Library concentration heatmap, Plate 3"
   ]
  },
  {
   "cell_type": "code",
   "execution_count": 29,
   "metadata": {
    "collapsed": false
   },
   "outputs": [],
   "source": [
    "plot_plate_vals(concs[np.ix_(odd_rows, even_cols)],\n",
    "                annot_str=names[np.ix_(odd_rows, even_cols)],\n",
    "                color_map='viridis',\n",
    "                annot_fmt='')"
   ]
  },
  {
   "cell_type": "markdown",
   "metadata": {},
   "source": [
    "### Library concentration heatmap, Plate 4"
   ]
  },
  {
   "cell_type": "code",
   "execution_count": 30,
   "metadata": {
    "collapsed": false,
    "scrolled": false
   },
   "outputs": [],
   "source": [
    "plot_plate_vals(concs[np.ix_(odd_rows, odd_cols)],\n",
    "                annot_str=names[np.ix_(odd_rows, odd_cols)],\n",
    "                color_map='viridis',\n",
    "                annot_fmt='')"
   ]
  },
  {
   "cell_type": "markdown",
   "metadata": {},
   "source": [
    "### Plot pooling volumes"
   ]
  },
  {
   "cell_type": "code",
   "execution_count": 31,
   "metadata": {
    "collapsed": false,
    "scrolled": false
   },
   "outputs": [],
   "source": [
    "plot_plate_vals(vols)"
   ]
  },
  {
   "cell_type": "markdown",
   "metadata": {},
   "source": [
    "## Step 6: write pooling pick list"
   ]
  },
  {
   "cell_type": "code",
   "execution_count": 32,
   "metadata": {
    "collapsed": false
   },
   "outputs": [
    {
     "name": "stdout",
     "output_type": "stream",
     "text": [
      "Warning! This file exists already.\n"
     ]
    }
   ],
   "source": [
    "# Write the picklist\n",
    "picklist_fp = './test_output/MRSA/2017-08-04_MRSA_1-4_qPCR_pooling_picklist.txt'\n",
    "\n",
    "if os.path.isfile(picklist_fp):\n",
    "    print(\"Warning! This file exists already.\")"
   ]
  },
  {
   "cell_type": "code",
   "execution_count": 33,
   "metadata": {
    "collapsed": false
   },
   "outputs": [
    {
     "name": "stdout",
     "output_type": "stream",
     "text": [
      "Source Plate Name,Source Plate Type,Source Well,Concentration,Transfer Volume,Destination Plate Name,Destination Well\r\n",
      "1,384LDV_AQ_B2_HT,A1,,520.83,NormalizedDNA,A1\r\n",
      "1,384LDV_AQ_B2_HT,A2,,520.83,NormalizedDNA,A1\r\n",
      "1,384LDV_AQ_B2_HT,A3,,520.83,NormalizedDNA,A1\r\n",
      "1,384LDV_AQ_B2_HT,A4,,520.83,NormalizedDNA,A1\r\n",
      "1,384LDV_AQ_B2_HT,A5,,520.83,NormalizedDNA,A1\r\n",
      "1,384LDV_AQ_B2_HT,A6,,520.83,NormalizedDNA,A1\r\n",
      "1,384LDV_AQ_B2_HT,A7,,520.83,NormalizedDNA,A1\r\n",
      "1,384LDV_AQ_B2_HT,A8,,520.83,NormalizedDNA,A1\r\n",
      "1,384LDV_AQ_B2_HT,A9,,520.83,NormalizedDNA,A1\r\n"
     ]
    }
   ],
   "source": [
    "picklist = format_pooling_echo_pick_list(vols, max_vol_per_well=30000)\n",
    "with open(picklist_fp,'w') as f:\n",
    "    f.write(picklist)\n",
    "\n",
    "!head {picklist_fp}"
   ]
  },
  {
   "cell_type": "markdown",
   "metadata": {
    "collapsed": true
   },
   "source": [
    "# Make HiSeq sample sheet\n",
    "\n",
    "This workflow takes the pooled sample information and writes an Illumina sample sheet that can be given directly to the sequencing center. \n",
    "\n",
    "As inputs, this notebook requires:\n",
    "1. A plate map DataFrame (from previous step)\n",
    "\n",
    "The workflow:\n",
    "1. formats sample names as bcl2fastq-compatible\n",
    "2. formats sample data\n",
    "3. sets values for sample sheet fields and formats sample sheet.\n",
    "4. writes the sample sheet to a file"
   ]
  },
  {
   "cell_type": "markdown",
   "metadata": {},
   "source": [
    "## Step 1: Format sample names to be bcl2fastq-compatible\n",
    "\n",
    "bcl2fastq requires *only* alphanumeric, hyphens, and underscore characters. We'll replace all non-those characters\n",
    "with underscores and add the bcl2fastq-compatible names to the DataFrame."
   ]
  },
  {
   "cell_type": "code",
   "execution_count": 34,
   "metadata": {
    "collapsed": false
   },
   "outputs": [
    {
     "data": {
      "text/html": [
       "<div>\n",
       "<style>\n",
       "    .dataframe thead tr:only-child th {\n",
       "        text-align: right;\n",
       "    }\n",
       "\n",
       "    .dataframe thead th {\n",
       "        text-align: left;\n",
       "    }\n",
       "\n",
       "    .dataframe tbody tr th {\n",
       "        vertical-align: top;\n",
       "    }\n",
       "</style>\n",
       "<table border=\"1\" class=\"dataframe\">\n",
       "  <thead>\n",
       "    <tr style=\"text-align: right;\">\n",
       "      <th></th>\n",
       "      <th>Sample</th>\n",
       "      <th>Row</th>\n",
       "      <th>Col</th>\n",
       "      <th>Blank</th>\n",
       "      <th>Well</th>\n",
       "      <th>Sample DNA Concentration</th>\n",
       "      <th>Normalized DNA volume</th>\n",
       "      <th>Normalized water volume</th>\n",
       "      <th>index combo</th>\n",
       "      <th>index combo seq</th>\n",
       "      <th>...</th>\n",
       "      <th>i5 plate</th>\n",
       "      <th>i7 name</th>\n",
       "      <th>i7 sequence</th>\n",
       "      <th>i7 well</th>\n",
       "      <th>i7 plate</th>\n",
       "      <th>Pos</th>\n",
       "      <th>Cp</th>\n",
       "      <th>Library Concentration</th>\n",
       "      <th>Pooled Volume</th>\n",
       "      <th>sample sheet Sample_ID</th>\n",
       "    </tr>\n",
       "  </thead>\n",
       "  <tbody>\n",
       "    <tr>\n",
       "      <th>0</th>\n",
       "      <td>GLY_01_012</td>\n",
       "      <td>A</td>\n",
       "      <td>1</td>\n",
       "      <td>False</td>\n",
       "      <td>A1</td>\n",
       "      <td>3.432</td>\n",
       "      <td>1457.5</td>\n",
       "      <td>2042.5</td>\n",
       "      <td>0</td>\n",
       "      <td>ACCGACAAACGTTACC</td>\n",
       "      <td>...</td>\n",
       "      <td>iTru5_plate</td>\n",
       "      <td>iTru7_101_01</td>\n",
       "      <td>ACGTTACC</td>\n",
       "      <td>A1</td>\n",
       "      <td>iTru7_plate</td>\n",
       "      <td>A1</td>\n",
       "      <td>14.20</td>\n",
       "      <td>5.436218</td>\n",
       "      <td>520.833333</td>\n",
       "      <td>GLY_01_012</td>\n",
       "    </tr>\n",
       "    <tr>\n",
       "      <th>1</th>\n",
       "      <td>GLY_14_034</td>\n",
       "      <td>B</td>\n",
       "      <td>1</td>\n",
       "      <td>False</td>\n",
       "      <td>B1</td>\n",
       "      <td>3.151</td>\n",
       "      <td>1587.5</td>\n",
       "      <td>1912.5</td>\n",
       "      <td>1</td>\n",
       "      <td>AGTGGCAACTGTGTTG</td>\n",
       "      <td>...</td>\n",
       "      <td>iTru5_plate</td>\n",
       "      <td>iTru7_101_02</td>\n",
       "      <td>CTGTGTTG</td>\n",
       "      <td>A2</td>\n",
       "      <td>iTru7_plate</td>\n",
       "      <td>B1</td>\n",
       "      <td>13.24</td>\n",
       "      <td>10.775030</td>\n",
       "      <td>520.833333</td>\n",
       "      <td>GLY_14_034</td>\n",
       "    </tr>\n",
       "    <tr>\n",
       "      <th>2</th>\n",
       "      <td>GLY_11_007</td>\n",
       "      <td>C</td>\n",
       "      <td>1</td>\n",
       "      <td>False</td>\n",
       "      <td>C1</td>\n",
       "      <td>3.239</td>\n",
       "      <td>1542.5</td>\n",
       "      <td>1957.5</td>\n",
       "      <td>2</td>\n",
       "      <td>CACAGACTTGAGGTGT</td>\n",
       "      <td>...</td>\n",
       "      <td>iTru5_plate</td>\n",
       "      <td>iTru7_101_03</td>\n",
       "      <td>TGAGGTGT</td>\n",
       "      <td>A3</td>\n",
       "      <td>iTru7_plate</td>\n",
       "      <td>C1</td>\n",
       "      <td>14.44</td>\n",
       "      <td>4.581592</td>\n",
       "      <td>520.833333</td>\n",
       "      <td>GLY_11_007</td>\n",
       "    </tr>\n",
       "    <tr>\n",
       "      <th>3</th>\n",
       "      <td>GLY_28_018</td>\n",
       "      <td>D</td>\n",
       "      <td>1</td>\n",
       "      <td>False</td>\n",
       "      <td>D1</td>\n",
       "      <td>4.212</td>\n",
       "      <td>1187.5</td>\n",
       "      <td>2312.5</td>\n",
       "      <td>3</td>\n",
       "      <td>CGACACTTGATCCATG</td>\n",
       "      <td>...</td>\n",
       "      <td>iTru5_plate</td>\n",
       "      <td>iTru7_101_04</td>\n",
       "      <td>GATCCATG</td>\n",
       "      <td>A4</td>\n",
       "      <td>iTru7_plate</td>\n",
       "      <td>D1</td>\n",
       "      <td>13.54</td>\n",
       "      <td>8.700976</td>\n",
       "      <td>520.833333</td>\n",
       "      <td>GLY_28_018</td>\n",
       "    </tr>\n",
       "    <tr>\n",
       "      <th>4</th>\n",
       "      <td>GLY_25_003</td>\n",
       "      <td>E</td>\n",
       "      <td>1</td>\n",
       "      <td>False</td>\n",
       "      <td>E1</td>\n",
       "      <td>10.016</td>\n",
       "      <td>500.0</td>\n",
       "      <td>3000.0</td>\n",
       "      <td>4</td>\n",
       "      <td>GACTTGTGGCCTATCA</td>\n",
       "      <td>...</td>\n",
       "      <td>iTru5_plate</td>\n",
       "      <td>iTru7_101_05</td>\n",
       "      <td>GCCTATCA</td>\n",
       "      <td>A5</td>\n",
       "      <td>iTru7_plate</td>\n",
       "      <td>E1</td>\n",
       "      <td>13.86</td>\n",
       "      <td>6.926717</td>\n",
       "      <td>520.833333</td>\n",
       "      <td>GLY_25_003</td>\n",
       "    </tr>\n",
       "  </tbody>\n",
       "</table>\n",
       "<p>5 rows × 23 columns</p>\n",
       "</div>"
      ],
      "text/plain": [
       "       Sample Row  Col  Blank Well  Sample DNA Concentration  \\\n",
       "0  GLY_01_012   A    1  False   A1                     3.432   \n",
       "1  GLY_14_034   B    1  False   B1                     3.151   \n",
       "2  GLY_11_007   C    1  False   C1                     3.239   \n",
       "3  GLY_28_018   D    1  False   D1                     4.212   \n",
       "4  GLY_25_003   E    1  False   E1                    10.016   \n",
       "\n",
       "   Normalized DNA volume  Normalized water volume  index combo  \\\n",
       "0                 1457.5                   2042.5            0   \n",
       "1                 1587.5                   1912.5            1   \n",
       "2                 1542.5                   1957.5            2   \n",
       "3                 1187.5                   2312.5            3   \n",
       "4                  500.0                   3000.0            4   \n",
       "\n",
       "    index combo seq           ...               i5 plate       i7 name  \\\n",
       "0  ACCGACAAACGTTACC           ...            iTru5_plate  iTru7_101_01   \n",
       "1  AGTGGCAACTGTGTTG           ...            iTru5_plate  iTru7_101_02   \n",
       "2  CACAGACTTGAGGTGT           ...            iTru5_plate  iTru7_101_03   \n",
       "3  CGACACTTGATCCATG           ...            iTru5_plate  iTru7_101_04   \n",
       "4  GACTTGTGGCCTATCA           ...            iTru5_plate  iTru7_101_05   \n",
       "\n",
       "  i7 sequence i7 well     i7 plate Pos     Cp Library Concentration  \\\n",
       "0    ACGTTACC      A1  iTru7_plate  A1  14.20              5.436218   \n",
       "1    CTGTGTTG      A2  iTru7_plate  B1  13.24             10.775030   \n",
       "2    TGAGGTGT      A3  iTru7_plate  C1  14.44              4.581592   \n",
       "3    GATCCATG      A4  iTru7_plate  D1  13.54              8.700976   \n",
       "4    GCCTATCA      A5  iTru7_plate  E1  13.86              6.926717   \n",
       "\n",
       "  Pooled Volume  sample sheet Sample_ID  \n",
       "0    520.833333              GLY_01_012  \n",
       "1    520.833333              GLY_14_034  \n",
       "2    520.833333              GLY_11_007  \n",
       "3    520.833333              GLY_28_018  \n",
       "4    520.833333              GLY_25_003  \n",
       "\n",
       "[5 rows x 23 columns]"
      ]
     },
     "execution_count": 34,
     "metadata": {},
     "output_type": "execute_result"
    }
   ],
   "source": [
    "plate_df['sample sheet Sample_ID'] = plate_df['Sample'].map(bcl_scrub_name)\n",
    "\n",
    "plate_df.head()"
   ]
  },
  {
   "cell_type": "markdown",
   "metadata": {},
   "source": [
    "# Step 2: format sample sheet data\n",
    "\n",
    "This step formats the data columns appropriately for the sample sheet, using the values we've calculated previously.\n",
    "\n",
    "The newly-created bcl2fastq-compatible names will be in the **`Sample ID`** and **`Sample Name`** columns. The\n",
    "original sample names will be in the **`Description`** column.\n",
    "\n",
    "Modify **`lanes`** to indicate which lanes this pool will be sequenced on.\n",
    "\n",
    "**`project_name`** and **`project_plate`** values will be placed in the **`Sample Project`** and **`Sample Name`**\n",
    "columns, respectively."
   ]
  },
  {
   "cell_type": "code",
   "execution_count": 35,
   "metadata": {
    "collapsed": true
   },
   "outputs": [],
   "source": [
    "lanes = [1,2,3,4]\n",
    "project_name = 'Example Project'\n",
    "project_plate = 'Example Plate 1'\n",
    "\n",
    "data = format_sample_data(plate_df['sample sheet Sample_ID'],\n",
    "                          plate_df['i7 name'], plate_df['i7 sequence'],\n",
    "                          plate_df['i5 name'], plate_df['i5 sequence'],\n",
    "                          wells=plate_df['Well'],\n",
    "                          sample_plate=project_plate,\n",
    "                          description=plate_df['Sample'],\n",
    "                          sample_proj=project_name,\n",
    "                          lanes=lanes, sep='\\t')"
   ]
  },
  {
   "cell_type": "markdown",
   "metadata": {},
   "source": [
    "## Step 3: add comments and set sample sheet values\n",
    "\n",
    "Comment lines can be added in the **`comments`** variable. These will be prepended with `#` and placed at the top of the file. \n",
    "\n",
    "Other fields in the sample sheet can be changed in the **`sample_sheet_dict`**."
   ]
  },
  {
   "cell_type": "code",
   "execution_count": 36,
   "metadata": {
    "collapsed": false
   },
   "outputs": [],
   "source": [
    "comments = 'PI\\tKnight\\trobknight@ucsd.edu\\t\\t\\n' + \\\n",
    "'Contact\\tJeff Dereus\\tGail Ackermann\\tJon Sanders\\tGreg Humphrey\\n' + \\\n",
    "'\\tjdereus@ucsd.edu\\tackermag@ucsd.edu\\tjonsan@gmail.com\\tghsmu414@gmail.com\\n'\n",
    "\n",
    "sample_sheet_dict = {'comments': comments,\n",
    "          'IEMFileVersion': '4',\n",
    "          'Investigator Name': 'Knight',\n",
    "          'Experiment Name': '',\n",
    "          'Date': '2017-08-13',\n",
    "          'Workflow': 'GenerateFASTQ',\n",
    "          'Application': 'FASTQ Only',\n",
    "          'Assay': 'Metagenomics',\n",
    "          'Description': '',\n",
    "          'Chemistry': 'Default',\n",
    "          'read1': 150,\n",
    "          'read2': 150,\n",
    "          'ReverseComplement': '0',\n",
    "          'data': data}\n",
    "\n",
    "# format sample sheet\n",
    "sample_sheet = format_sample_sheet(sample_sheet_dict)"
   ]
  },
  {
   "cell_type": "markdown",
   "metadata": {},
   "source": [
    "## Step 4: Write the sample sheet to file"
   ]
  },
  {
   "cell_type": "code",
   "execution_count": 37,
   "metadata": {
    "collapsed": false
   },
   "outputs": [
    {
     "name": "stdout",
     "output_type": "stream",
     "text": [
      "Warning! This file exists already.\n"
     ]
    }
   ],
   "source": [
    "sample_sheet_fp = './test_output/MRSA/2017-08-04_MRSA_1-4_sample_sheet.txt'\n",
    "\n",
    "if os.path.isfile(sample_sheet_fp):\n",
    "    print(\"Warning! This file exists already.\")"
   ]
  },
  {
   "cell_type": "code",
   "execution_count": 38,
   "metadata": {
    "collapsed": false
   },
   "outputs": [
    {
     "name": "stdout",
     "output_type": "stream",
     "text": [
      "# PI\tKnight\trobknight@ucsd.edu\t\t\r\n",
      "# Contact\tJeff Dereus\tGail Ackermann\tJon Sanders\tGreg Humphrey\r\n",
      "# \tjdereus@ucsd.edu\tackermag@ucsd.edu\tjonsan@gmail.com\tghsmu414@gmail.com\r\n",
      "[Header]\r\n",
      "IEMFileVersion\t4\r\n",
      "Investigator Name\tKnight\r\n",
      "Experiment Name\t\r\n",
      "Date\t2017-08-13\r\n",
      "Workflow\tGenerateFASTQ\r\n",
      "Application\tFASTQ Only\r\n",
      "Assay\tMetagenomics\r\n",
      "Description\t\r\n",
      "Chemistry\tDefault\r\n",
      "\r\n",
      "[Reads]\r\n",
      "150\r\n",
      "150\r\n",
      "\r\n",
      "[Settings]\r\n",
      "ReverseComplement\t0\r\n",
      "\r\n",
      "[Data]\r\n",
      "Lane\tSample_ID\tSample_Name\tSample_Plate\tSample_Well\tI7_Index_ID\tindex\tI5_Index_ID\tindex2\tSample_Project\tDescription\r\n",
      "1\tGLY_01_012\tGLY_01_012\tExample Plate 1\tA1\tiTru7_101_01\tACGTTACC\tiTru5_01_A\tACCGACAA\tExample Project\tGLY_01_012\r\n",
      "1\tGLY_14_034\tGLY_14_034\tExample Plate 1\tB1\tiTru7_101_02\tCTGTGTTG\tiTru5_01_B\tAGTGGCAA\tExample Project\tGLY_14_034\r\n",
      "1\tGLY_11_007\tGLY_11_007\tExample Plate 1\tC1\tiTru7_101_03\tTGAGGTGT\tiTru5_01_C\tCACAGACT\tExample Project\tGLY_11_007\r\n",
      "1\tGLY_28_018\tGLY_28_018\tExample Plate 1\tD1\tiTru7_101_04\tGATCCATG\tiTru5_01_D\tCGACACTT\tExample Project\tGLY_28_018\r\n",
      "1\tGLY_25_003\tGLY_25_003\tExample Plate 1\tE1\tiTru7_101_05\tGCCTATCA\tiTru5_01_E\tGACTTGTG\tExample Project\tGLY_25_003\r\n",
      "1\tGLY_06_106\tGLY_06_106\tExample Plate 1\tF1\tiTru7_101_06\tAACAACCG\tiTru5_01_F\tGTGAGACT\tExample Project\tGLY_06_106\r\n",
      "1\tGLY_07_011\tGLY_07_011\tExample Plate 1\tG1\tiTru7_101_07\tACTCGTTG\tiTru5_01_G\tGTTCCATG\tExample Project\tGLY_07_011\r\n"
     ]
    }
   ],
   "source": [
    "with open(sample_sheet_fp,'w') as f:\n",
    "    f.write(sample_sheet)\n",
    "    \n",
    "!head -n 30 {sample_sheet_fp}"
   ]
  },
  {
   "cell_type": "code",
   "execution_count": null,
   "metadata": {
    "collapsed": true
   },
   "outputs": [],
   "source": []
  }
 ],
 "metadata": {
  "kernelspec": {
   "display_name": "Python 3",
   "language": "python",
   "name": "python3"
  },
  "language_info": {
   "codemirror_mode": {
    "name": "ipython",
    "version": 3
   },
   "file_extension": ".py",
   "mimetype": "text/x-python",
   "name": "python",
   "nbconvert_exporter": "python",
   "pygments_lexer": "ipython3",
   "version": "3.5.2"
  }
 },
 "nbformat": 4,
 "nbformat_minor": 1
}
